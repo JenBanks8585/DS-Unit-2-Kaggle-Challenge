{
  "nbformat": 4,
  "nbformat_minor": 0,
  "metadata": {
    "kernelspec": {
      "display_name": "Python 3",
      "language": "python",
      "name": "python3"
    },
    "language_info": {
      "codemirror_mode": {
        "name": "ipython",
        "version": 3
      },
      "file_extension": ".py",
      "mimetype": "text/x-python",
      "name": "python",
      "nbconvert_exporter": "python",
      "pygments_lexer": "ipython3",
      "version": "3.7.6"
    },
    "colab": {
      "name": "Jen_Banks_ LS_DS_224_assignment.ipynb",
      "provenance": [],
      "include_colab_link": true
    },
    "widgets": {
      "application/vnd.jupyter.widget-state+json": {
        "4a636d5a1b974f569652887bab0f9974": {
          "model_module": "@jupyter-widgets/controls",
          "model_name": "VBoxModel",
          "state": {
            "_view_name": "VBoxView",
            "_dom_classes": [
              "widget-interact"
            ],
            "_model_name": "VBoxModel",
            "_view_module": "@jupyter-widgets/controls",
            "_model_module_version": "1.5.0",
            "_view_count": null,
            "_view_module_version": "1.5.0",
            "box_style": "",
            "layout": "IPY_MODEL_bae2ac9426f64e989a81d5a237f502d0",
            "_model_module": "@jupyter-widgets/controls",
            "children": [
              "IPY_MODEL_201a01bc700940e0aebcb36ee0a93835",
              "IPY_MODEL_a9a47c1ba79545609448db87ce3bf779"
            ]
          }
        },
        "bae2ac9426f64e989a81d5a237f502d0": {
          "model_module": "@jupyter-widgets/base",
          "model_name": "LayoutModel",
          "state": {
            "_view_name": "LayoutView",
            "grid_template_rows": null,
            "right": null,
            "justify_content": null,
            "_view_module": "@jupyter-widgets/base",
            "overflow": null,
            "_model_module_version": "1.2.0",
            "_view_count": null,
            "flex_flow": null,
            "width": null,
            "min_width": null,
            "border": null,
            "align_items": null,
            "bottom": null,
            "_model_module": "@jupyter-widgets/base",
            "top": null,
            "grid_column": null,
            "overflow_y": null,
            "overflow_x": null,
            "grid_auto_flow": null,
            "grid_area": null,
            "grid_template_columns": null,
            "flex": null,
            "_model_name": "LayoutModel",
            "justify_items": null,
            "grid_row": null,
            "max_height": null,
            "align_content": null,
            "visibility": null,
            "align_self": null,
            "height": null,
            "min_height": null,
            "padding": null,
            "grid_auto_rows": null,
            "grid_gap": null,
            "max_width": null,
            "order": null,
            "_view_module_version": "1.2.0",
            "grid_template_areas": null,
            "object_position": null,
            "object_fit": null,
            "grid_auto_columns": null,
            "margin": null,
            "display": null,
            "left": null
          }
        },
        "201a01bc700940e0aebcb36ee0a93835": {
          "model_module": "@jupyter-widgets/controls",
          "model_name": "FloatSliderModel",
          "state": {
            "_view_name": "FloatSliderView",
            "style": "IPY_MODEL_eef4615614014d479c2beff7c4e726ce",
            "_dom_classes": [],
            "description": "threshold",
            "step": 0.02,
            "_model_name": "FloatSliderModel",
            "orientation": "horizontal",
            "max": 1,
            "_view_module": "@jupyter-widgets/controls",
            "_model_module_version": "1.5.0",
            "value": 0.88,
            "_view_count": null,
            "disabled": false,
            "_view_module_version": "1.5.0",
            "min": 0,
            "continuous_update": true,
            "readout_format": ".2f",
            "description_tooltip": null,
            "readout": true,
            "_model_module": "@jupyter-widgets/controls",
            "layout": "IPY_MODEL_5e8b058531d5473db4a9dd55ccefc94d"
          }
        },
        "a9a47c1ba79545609448db87ce3bf779": {
          "model_module": "@jupyter-widgets/output",
          "model_name": "OutputModel",
          "state": {
            "_view_name": "OutputView",
            "msg_id": "",
            "_dom_classes": [],
            "_model_name": "OutputModel",
            "outputs": [
              {
                "output_type": "display_data",
                "metadata": {
                  "tags": [],
                  "needs_background": "light"
                },
                "image/png": "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\n",
                "text/plain": "<Figure size 432x288 with 1 Axes>"
              },
              {
                "output_type": "stream",
                "metadata": {
                  "tags": []
                },
                "text": "              precision    recall  f1-score   support\n\n       False       0.63      1.00      0.77      7798\n        True       0.98      0.30      0.46      6560\n\n    accuracy                           0.68     14358\n   macro avg       0.81      0.65      0.61     14358\nweighted avg       0.79      0.68      0.63     14358\n\nFalse    12363\nTrue      1995\ndtype: int64\n",
                "stream": "stdout"
              }
            ],
            "_view_module": "@jupyter-widgets/output",
            "_model_module_version": "1.0.0",
            "_view_count": null,
            "_view_module_version": "1.0.0",
            "layout": "IPY_MODEL_667b0037f1614d16bfbfbcd8cf1663c7",
            "_model_module": "@jupyter-widgets/output"
          }
        },
        "eef4615614014d479c2beff7c4e726ce": {
          "model_module": "@jupyter-widgets/controls",
          "model_name": "SliderStyleModel",
          "state": {
            "_view_name": "StyleView",
            "handle_color": null,
            "_model_name": "SliderStyleModel",
            "description_width": "",
            "_view_module": "@jupyter-widgets/base",
            "_model_module_version": "1.5.0",
            "_view_count": null,
            "_view_module_version": "1.2.0",
            "_model_module": "@jupyter-widgets/controls"
          }
        },
        "5e8b058531d5473db4a9dd55ccefc94d": {
          "model_module": "@jupyter-widgets/base",
          "model_name": "LayoutModel",
          "state": {
            "_view_name": "LayoutView",
            "grid_template_rows": null,
            "right": null,
            "justify_content": null,
            "_view_module": "@jupyter-widgets/base",
            "overflow": null,
            "_model_module_version": "1.2.0",
            "_view_count": null,
            "flex_flow": null,
            "width": null,
            "min_width": null,
            "border": null,
            "align_items": null,
            "bottom": null,
            "_model_module": "@jupyter-widgets/base",
            "top": null,
            "grid_column": null,
            "overflow_y": null,
            "overflow_x": null,
            "grid_auto_flow": null,
            "grid_area": null,
            "grid_template_columns": null,
            "flex": null,
            "_model_name": "LayoutModel",
            "justify_items": null,
            "grid_row": null,
            "max_height": null,
            "align_content": null,
            "visibility": null,
            "align_self": null,
            "height": null,
            "min_height": null,
            "padding": null,
            "grid_auto_rows": null,
            "grid_gap": null,
            "max_width": null,
            "order": null,
            "_view_module_version": "1.2.0",
            "grid_template_areas": null,
            "object_position": null,
            "object_fit": null,
            "grid_auto_columns": null,
            "margin": null,
            "display": null,
            "left": null
          }
        },
        "667b0037f1614d16bfbfbcd8cf1663c7": {
          "model_module": "@jupyter-widgets/base",
          "model_name": "LayoutModel",
          "state": {
            "_view_name": "LayoutView",
            "grid_template_rows": null,
            "right": null,
            "justify_content": null,
            "_view_module": "@jupyter-widgets/base",
            "overflow": null,
            "_model_module_version": "1.2.0",
            "_view_count": null,
            "flex_flow": null,
            "width": null,
            "min_width": null,
            "border": null,
            "align_items": null,
            "bottom": null,
            "_model_module": "@jupyter-widgets/base",
            "top": null,
            "grid_column": null,
            "overflow_y": null,
            "overflow_x": null,
            "grid_auto_flow": null,
            "grid_area": null,
            "grid_template_columns": null,
            "flex": null,
            "_model_name": "LayoutModel",
            "justify_items": null,
            "grid_row": null,
            "max_height": null,
            "align_content": null,
            "visibility": null,
            "align_self": null,
            "height": null,
            "min_height": null,
            "padding": null,
            "grid_auto_rows": null,
            "grid_gap": null,
            "max_width": null,
            "order": null,
            "_view_module_version": "1.2.0",
            "grid_template_areas": null,
            "object_position": null,
            "object_fit": null,
            "grid_auto_columns": null,
            "margin": null,
            "display": null,
            "left": null
          }
        }
      }
    }
  },
  "cells": [
    {
      "cell_type": "markdown",
      "metadata": {
        "id": "view-in-github",
        "colab_type": "text"
      },
      "source": [
        "<a href=\"https://colab.research.google.com/github/JenBanks8585/DS-Unit-2-Kaggle-Challenge/blob/master/module4-classification-metrics/Jen_Banks__LS_DS_224_assignment.ipynb\" target=\"_parent\"><img src=\"https://colab.research.google.com/assets/colab-badge.svg\" alt=\"Open In Colab\"/></a>"
      ]
    },
    {
      "cell_type": "markdown",
      "metadata": {
        "id": "IbbWoO5Qwjf9",
        "colab_type": "text"
      },
      "source": [
        "Lambda School Data Science\n",
        "\n",
        "*Unit 2, Sprint 2, Module 4*\n",
        "\n",
        "---"
      ]
    },
    {
      "cell_type": "markdown",
      "metadata": {
        "colab_type": "text",
        "id": "nCc3XZEyG3XV"
      },
      "source": [
        "# Classification Metrics\n",
        "\n",
        "## Assignment\n",
        "- [ ] If you haven't yet, [review requirements for your portfolio project](https://lambdaschool.github.io/ds/unit2), then submit your dataset.\n",
        "- [ ] Plot a confusion matrix for your Tanzania Waterpumps model.\n",
        "- [ ] Continue to participate in our Kaggle challenge. Every student should have made at least one submission that scores at least 70% accuracy (well above the majority class baseline).\n",
        "- [ ] Submit your final predictions to our Kaggle competition. Optionally, go to **My Submissions**, and _\"you may select up to 1 submission to be used to count towards your final leaderboard score.\"_\n",
        "- [ ] Commit your notebook to your fork of the GitHub repo.\n",
        "- [ ] Read [Maximizing Scarce Maintenance Resources with Data: Applying predictive modeling, precision at k, and clustering to optimize impact](https://towardsdatascience.com/maximizing-scarce-maintenance-resources-with-data-8f3491133050), by Lambda DS3 student Michael Brady. His blog post extends the Tanzania Waterpumps scenario, far beyond what's in the lecture notebook.\n",
        "\n",
        "\n",
        "## Stretch Goals\n",
        "\n",
        "### Reading\n",
        "\n",
        "- [Attacking discrimination with smarter machine learning](https://research.google.com/bigpicture/attacking-discrimination-in-ml/), by Google Research, with  interactive visualizations. _\"A threshold classifier essentially makes a yes/no decision, putting things in one category or another. We look at how these classifiers work, ways they can potentially be unfair, and how you might turn an unfair classifier into a fairer one. As an illustrative example, we focus on loan granting scenarios where a bank may grant or deny a loan based on a single, automatically computed number such as a credit score.\"_\n",
        "- [Notebook about how to calculate expected value from a confusion matrix by treating it as a cost-benefit matrix](https://github.com/podopie/DAT18NYC/blob/master/classes/13-expected_value_cost_benefit_analysis.ipynb)\n",
        "- [Visualizing Machine Learning Thresholds to Make Better Business Decisions](https://blog.insightdatascience.com/visualizing-machine-learning-thresholds-to-make-better-business-decisions-4ab07f823415)\n",
        "\n",
        "\n",
        "### Doing\n",
        "- [ ] Share visualizations in our Slack channel!\n",
        "- [ ] RandomizedSearchCV / GridSearchCV, for model selection. (See module 3 assignment notebook)\n",
        "- [ ] Stacking Ensemble. (See module 3 assignment notebook)\n",
        "- [ ] More Categorical Encoding. (See module 2 assignment notebook)"
      ]
    },
    {
      "cell_type": "code",
      "metadata": {
        "colab_type": "code",
        "id": "lsbRiKBoB5RE",
        "colab": {}
      },
      "source": [
        "%%capture\n",
        "import sys\n",
        "\n",
        "# If you're on Colab:\n",
        "if 'google.colab' in sys.modules:\n",
        "    DATA_PATH = 'https://raw.githubusercontent.com/LambdaSchool/DS-Unit-2-Kaggle-Challenge/master/data/'\n",
        "    !pip install category_encoders==2.*\n",
        "\n",
        "# If you're working locally:\n",
        "else:\n",
        "    DATA_PATH = '../data/'"
      ],
      "execution_count": 0,
      "outputs": []
    },
    {
      "cell_type": "code",
      "metadata": {
        "id": "AJEB2wHzwjgY",
        "colab_type": "code",
        "colab": {}
      },
      "source": [
        "#imports\n",
        "\n",
        "%matplotlib inline\n",
        "import category_encoders as ce\n",
        "import matplotlib.pyplot as plt\n",
        "import numpy as np\n",
        "import pandas as pd\n",
        "import seaborn as sns\n",
        "from sklearn.impute import SimpleImputer\n",
        "from sklearn.metrics import accuracy_score\n",
        "from sklearn.model_selection import train_test_split\n",
        "from sklearn.pipeline import make_pipeline\n",
        "from sklearn.ensemble import RandomForestClassifier"
      ],
      "execution_count": 0,
      "outputs": []
    },
    {
      "cell_type": "code",
      "metadata": {
        "colab_type": "code",
        "id": "BVA1lph8CcNX",
        "colab": {}
      },
      "source": [
        "# Merge train_features.csv & train_labels.csv\n",
        "train = pd.merge(pd.read_csv(DATA_PATH+'waterpumps/train_features.csv'), \n",
        "                 pd.read_csv(DATA_PATH+'waterpumps/train_labels.csv'))\n",
        "\n",
        "# Read test_features.csv & sample_submission.csv\n",
        "test = pd.read_csv(DATA_PATH+'waterpumps/test_features.csv')\n",
        "sample_submission = pd.read_csv(DATA_PATH+'waterpumps/sample_submission.csv')\n",
        "\n",
        "# Split train into train & val. Make val the same size as test.\n",
        "target = 'status_group'\n",
        "train, val = train_test_split(train, test_size=len(test),  \n",
        "                              stratify=train[target], random_state=42)"
      ],
      "execution_count": 0,
      "outputs": []
    },
    {
      "cell_type": "code",
      "metadata": {
        "id": "2sjXafCsx1CK",
        "colab_type": "code",
        "colab": {}
      },
      "source": [
        "# Data Wranggling\n",
        "\n",
        "def wrangle(X):\n",
        "    \"\"\"Wrangle train, validate, and test sets in the same way\"\"\"\n",
        "    \n",
        "    # Prevent SettingWithCopyWarning\n",
        "    X = X.copy()\n",
        "    \n",
        "    # About 6.1% of 'funder' cell are missing, fill with mode\n",
        "    X['funder']=X['funder'].fillna(X.funder.mode()[0], inplace=False)\n",
        "\n",
        "    # About 6.2% of 'installer' cell are missing, fill with mode\n",
        "    X['installer']=X['installer'].fillna(X['installer'].mode()[0], inplace=False)\n",
        "\n",
        "    # About 3% of the time, latitude has small values near zero,\n",
        "    # outside Tanzania, so we'll treat these values like zero.\n",
        "    X['latitude'] = X['latitude'].replace(-2e-08, 0)\n",
        "\n",
        "     # About 5.7% of 'public_meeting' cell are missing, fill with mode\n",
        "    X['public_meeting']=X['public_meeting'].fillna(X['public_meeting'].mode()[0],\n",
        "                                                   inplace=False)\n",
        "\n",
        "    # About 6.5% of 'public_meeting' cell are missing, fill with mode\n",
        "    X['scheme_management']=X['scheme_management'].fillna(X['scheme_management'].mode()[0],\n",
        "                                                         inplace=False)\n",
        "    \n",
        "    # About 5.2% of 'public_meeting' cell are missing, fill with mode\n",
        "    X['permit']=X['permit'].fillna(X['permit'].mode()[0], inplace=False)\n",
        "    \n",
        "    # When columns have zeros and shouldn't, they are like null values.\n",
        "    # So we will replace the zeros with nulls, and impute missing values later.\n",
        "    # Also create a \"missing indicator\" column, because the fact that\n",
        "    # values are missing may be a predictive signal.\n",
        "    cols_with_zeros = ['longitude', 'latitude', 'construction_year', \n",
        "                       'gps_height', 'population']\n",
        "    for col in cols_with_zeros:\n",
        "        X[col] = X[col].replace(0, np.nan)\n",
        "        X[col+'_MISSING'] = X[col].isnull()\n",
        "            \n",
        "    # Drop duplicate columns\n",
        "    duplicates = ['quantity_group', 'payment_type']\n",
        "    X = X.drop(columns=duplicates)\n",
        "    \n",
        "    # Drop recorded_by (never varies) and id (always varies, random)\n",
        "    unusable_variance = ['recorded_by', 'id']\n",
        "    X = X.drop(columns=unusable_variance)\n",
        "    \n",
        "    # Convert date_recorded to datetime\n",
        "    X['date_recorded'] = pd.to_datetime(X['date_recorded'], infer_datetime_format=True)\n",
        "    \n",
        "    # Extract components from date_recorded, then drop the original column\n",
        "    X['year_recorded'] = X['date_recorded'].dt.year\n",
        "    X['month_recorded'] = X['date_recorded'].dt.month\n",
        "    X['day_recorded'] = X['date_recorded'].dt.day\n",
        "    X = X.drop(columns='date_recorded')\n",
        "    \n",
        "    # Engineer feature: how many years from construction_year to date_recorded\n",
        "    X['years'] = X['year_recorded'] - X['construction_year']\n",
        "    X['years_MISSING'] = X['years'].isnull()\n",
        "    \n",
        "    # return the wrangled dataframe\n",
        "    return X\n",
        "\n",
        "train = wrangle(train)\n",
        "val = wrangle(val)\n",
        "test = wrangle(test)"
      ],
      "execution_count": 0,
      "outputs": []
    },
    {
      "cell_type": "code",
      "metadata": {
        "id": "4CcRJ2sax_FS",
        "colab_type": "code",
        "colab": {
          "base_uri": "https://localhost:8080/",
          "height": 35
        },
        "outputId": "89aadab0-fe28-4388-92ff-f86c0d94c456"
      },
      "source": [
        "# Arrange data into X features matrix and y target vector\n",
        "X_train = train.drop(columns=target)\n",
        "y_train = train[target]\n",
        "X_val = val.drop(columns=target)\n",
        "y_val = val[target]\n",
        "X_test = test\n",
        "\n",
        "# Make pipeline!\n",
        "pipeline = make_pipeline(\n",
        "    ce.OrdinalEncoder(), \n",
        "    SimpleImputer(strategy='mean'), \n",
        "    RandomForestClassifier(n_estimators=100, random_state=42, n_jobs=-1)\n",
        ")\n",
        "\n",
        "# Fit on train, score on val\n",
        "pipeline.fit(X_train, y_train)\n",
        "y_pred = pipeline.predict(X_val)\n",
        "print('Validation Accuracy', accuracy_score(y_val, y_pred))"
      ],
      "execution_count": 34,
      "outputs": [
        {
          "output_type": "stream",
          "text": [
            "Validation Accuracy 0.8105585736174955\n"
          ],
          "name": "stdout"
        }
      ]
    },
    {
      "cell_type": "code",
      "metadata": {
        "id": "Yz5xMGyEybmZ",
        "colab_type": "code",
        "colab": {
          "base_uri": "https://localhost:8080/",
          "height": 385
        },
        "outputId": "697e9ec0-8814-41cc-fa49-894e3f5a0f1d"
      },
      "source": [
        "from sklearn.metrics import plot_confusion_matrix\n",
        "\n",
        "plot_confusion_matrix(pipeline, \n",
        "                      X_val,y_val,\n",
        "                      values_format='.0f',\n",
        "                      xticks_rotation='vertical',\n",
        "                      cmap='Blues');"
      ],
      "execution_count": 35,
      "outputs": [
        {
          "output_type": "display_data",
          "data": {
            "image/png": "[encoded data removed]",
            "text/plain": [
              "<Figure size 432x288 with 2 Axes>"
            ]
          },
          "metadata": {
            "tags": [],
            "needs_background": "light"
          }
        }
      ]
    },
    {
      "cell_type": "code",
      "metadata": {
        "id": "VrUvr-QY0y0z",
        "colab_type": "code",
        "colab": {
          "base_uri": "https://localhost:8080/",
          "height": 35
        },
        "outputId": "0d4e3f3d-7e42-4fa8-fd1f-05fc7d873de0"
      },
      "source": [
        "# Number of correct predictions\n",
        "\n",
        "6952+331+4355"
      ],
      "execution_count": 36,
      "outputs": [
        {
          "output_type": "execute_result",
          "data": {
            "text/plain": [
              "11638"
            ]
          },
          "metadata": {
            "tags": []
          },
          "execution_count": 36
        }
      ]
    },
    {
      "cell_type": "code",
      "metadata": {
        "id": "3rkWRY0l2Hj1",
        "colab_type": "code",
        "colab": {
          "base_uri": "https://localhost:8080/",
          "height": 35
        },
        "outputId": "94cb05b0-e20a-4c0d-e84a-bf7c8ef063ce"
      },
      "source": [
        "#Total predictions\n",
        "\n",
        "len(y_val)"
      ],
      "execution_count": 37,
      "outputs": [
        {
          "output_type": "execute_result",
          "data": {
            "text/plain": [
              "14358"
            ]
          },
          "metadata": {
            "tags": []
          },
          "execution_count": 37
        }
      ]
    },
    {
      "cell_type": "code",
      "metadata": {
        "id": "a0E18eTE2Nwk",
        "colab_type": "code",
        "colab": {
          "base_uri": "https://localhost:8080/",
          "height": 35
        },
        "outputId": "875ac897-4516-4ee4-aa4e-b1f4320ba0de"
      },
      "source": [
        "#Accuracy\n",
        "\n",
        "11638/len(y_val)"
      ],
      "execution_count": 38,
      "outputs": [
        {
          "output_type": "execute_result",
          "data": {
            "text/plain": [
              "0.8105585736174955"
            ]
          },
          "metadata": {
            "tags": []
          },
          "execution_count": 38
        }
      ]
    },
    {
      "cell_type": "code",
      "metadata": {
        "id": "lv_oV-IqhAQF",
        "colab_type": "code",
        "colab": {
          "base_uri": "https://localhost:8080/",
          "height": 199
        },
        "outputId": "e8581f5f-82f8-40fb-cbe7-08d82d3ffa67"
      },
      "source": [
        "# Classification report\n",
        "\n",
        "from sklearn.metrics import classification_report\n",
        "\n",
        "print(classification_report(y_val, y_pred))"
      ],
      "execution_count": 39,
      "outputs": [
        {
          "output_type": "stream",
          "text": [
            "                         precision    recall  f1-score   support\n",
            "\n",
            "             functional       0.81      0.89      0.85      7798\n",
            "functional needs repair       0.57      0.32      0.41      1043\n",
            "         non functional       0.84      0.79      0.81      5517\n",
            "\n",
            "               accuracy                           0.81     14358\n",
            "              macro avg       0.74      0.67      0.69     14358\n",
            "           weighted avg       0.80      0.81      0.80     14358\n",
            "\n"
          ],
          "name": "stdout"
        }
      ]
    },
    {
      "cell_type": "code",
      "metadata": {
        "id": "o5l_snJRy-Jv",
        "colab_type": "code",
        "colab": {
          "base_uri": "https://localhost:8080/",
          "height": 217
        },
        "outputId": "d852bf67-48c3-48b7-9b8b-fdb00c0e6fc3"
      },
      "source": [
        "!pip install scikit-plot"
      ],
      "execution_count": 40,
      "outputs": [
        {
          "output_type": "stream",
          "text": [
            "Requirement already satisfied: scikit-plot in /usr/local/lib/python3.6/dist-packages (0.3.7)\n",
            "Requirement already satisfied: scikit-learn>=0.18 in /usr/local/lib/python3.6/dist-packages (from scikit-plot) (0.22.2.post1)\n",
            "Requirement already satisfied: scipy>=0.9 in /usr/local/lib/python3.6/dist-packages (from scikit-plot) (1.4.1)\n",
            "Requirement already satisfied: joblib>=0.10 in /usr/local/lib/python3.6/dist-packages (from scikit-plot) (0.14.1)\n",
            "Requirement already satisfied: matplotlib>=1.4.0 in /usr/local/lib/python3.6/dist-packages (from scikit-plot) (3.2.1)\n",
            "Requirement already satisfied: numpy>=1.11.0 in /usr/local/lib/python3.6/dist-packages (from scikit-learn>=0.18->scikit-plot) (1.18.2)\n",
            "Requirement already satisfied: pyparsing!=2.0.4,!=2.1.2,!=2.1.6,>=2.0.1 in /usr/local/lib/python3.6/dist-packages (from matplotlib>=1.4.0->scikit-plot) (2.4.7)\n",
            "Requirement already satisfied: python-dateutil>=2.1 in /usr/local/lib/python3.6/dist-packages (from matplotlib>=1.4.0->scikit-plot) (2.8.1)\n",
            "Requirement already satisfied: kiwisolver>=1.0.1 in /usr/local/lib/python3.6/dist-packages (from matplotlib>=1.4.0->scikit-plot) (1.2.0)\n",
            "Requirement already satisfied: cycler>=0.10 in /usr/local/lib/python3.6/dist-packages (from matplotlib>=1.4.0->scikit-plot) (0.10.0)\n",
            "Requirement already satisfied: six>=1.5 in /usr/local/lib/python3.6/dist-packages (from python-dateutil>=2.1->matplotlib>=1.4.0->scikit-plot) (1.12.0)\n"
          ],
          "name": "stdout"
        }
      ]
    },
    {
      "cell_type": "code",
      "metadata": {
        "id": "VkiZlPqRzL2z",
        "colab_type": "code",
        "colab": {
          "base_uri": "https://localhost:8080/",
          "height": 404
        },
        "outputId": "a2577345-e3c3-48a2-915d-0449d7520a56"
      },
      "source": [
        "from scikitplot.metrics import  plot_confusion_matrix\n",
        "\n",
        "plot_confusion_matrix(y_val, y_pred,\n",
        "                      figsize=(8,6),\n",
        "                      title=f'Confusion Matrix:N={len(y_val)}',\n",
        "                      normalize=False\n",
        ");"
      ],
      "execution_count": 41,
      "outputs": [
        {
          "output_type": "display_data",
          "data": {
            "image/png": "[encoded data removed]",
            "text/plain": [
              "<Figure size 576x432 with 2 Axes>"
            ]
          },
          "metadata": {
            "tags": [],
            "needs_background": "light"
          }
        }
      ]
    },
    {
      "cell_type": "markdown",
      "metadata": {
        "id": "cZC2Yb9PnLhp",
        "colab_type": "text"
      },
      "source": [
        "##Precision Example Computation"
      ]
    },
    {
      "cell_type": "code",
      "metadata": {
        "id": "-E8WJsQLlKG-",
        "colab_type": "code",
        "colab": {
          "base_uri": "https://localhost:8080/",
          "height": 35
        },
        "outputId": "f8a07cc4-206b-47ee-d2b8-427955873967"
      },
      "source": [
        "#How many correct predictions of non functional?\n",
        "4335\n",
        "\n",
        "#How many total predictions of non functional??\n",
        "tot_non_funct= 4335 + 167 + 670\n",
        "\n",
        "# Precision for non functional\n",
        "\n",
        "4335/tot_non_funct"
      ],
      "execution_count": 42,
      "outputs": [
        {
          "output_type": "execute_result",
          "data": {
            "text/plain": [
              "0.8381670533642691"
            ]
          },
          "metadata": {
            "tags": []
          },
          "execution_count": 42
        }
      ]
    },
    {
      "cell_type": "markdown",
      "metadata": {
        "id": "z7jByeWRnRU9",
        "colab_type": "text"
      },
      "source": [
        "##Recall Example Computation"
      ]
    },
    {
      "cell_type": "code",
      "metadata": {
        "id": "oepPzHCIlKEM",
        "colab_type": "code",
        "colab": {
          "base_uri": "https://localhost:8080/",
          "height": 35
        },
        "outputId": "b7cf5610-185d-411f-bc1f-7638953c74c2"
      },
      "source": [
        "# How many actual non functional?\n",
        "\n",
        "tot_tru_nf= 1091+71+4335\n",
        "\n",
        "#Recall for non functional\n",
        "4335/tot_tru_nf"
      ],
      "execution_count": 43,
      "outputs": [
        {
          "output_type": "execute_result",
          "data": {
            "text/plain": [
              "0.7886119701655449"
            ]
          },
          "metadata": {
            "tags": []
          },
          "execution_count": 43
        }
      ]
    },
    {
      "cell_type": "code",
      "metadata": {
        "id": "A7zQbpntlJ-W",
        "colab_type": "code",
        "colab": {}
      },
      "source": [
        ""
      ],
      "execution_count": 0,
      "outputs": []
    },
    {
      "cell_type": "code",
      "metadata": {
        "id": "Jp66W8Q-lJ7b",
        "colab_type": "code",
        "colab": {}
      },
      "source": [
        ""
      ],
      "execution_count": 0,
      "outputs": []
    },
    {
      "cell_type": "code",
      "metadata": {
        "id": "SW4Iyp39lJ13",
        "colab_type": "code",
        "colab": {}
      },
      "source": [
        ""
      ],
      "execution_count": 0,
      "outputs": []
    },
    {
      "cell_type": "code",
      "metadata": {
        "id": "Mn8mWeMnh_0p",
        "colab_type": "code",
        "colab": {
          "base_uri": "https://localhost:8080/",
          "height": 54
        },
        "outputId": "00fc83e7-a6f6-4b64-c1a3-ad61ee7eac80"
      },
      "source": [
        "#Try anothe pipeline\n",
        "# Using Bagging ensemble, no replacement\n",
        "from sklearn.ensemble import RandomForestClassifier, BaggingClassifier\n",
        "from sklearn.tree import DecisionTreeClassifier\n",
        "%matplotlib inline\n",
        "import matplotlib.pyplot as plt\n",
        "from sklearn.model_selection import validation_curve\n",
        "\n",
        "pipeline_bag1=make_pipeline(\n",
        "    ce.OrdinalEncoder(),\n",
        "    SimpleImputer(),    \n",
        "    BaggingClassifier(DecisionTreeClassifier(),\n",
        "                      n_estimators=100,\n",
        "                      max_features=0.6, \n",
        "                      max_samples=0.4, \n",
        "                      bootstrap=False, \n",
        "                      bootstrap_features= False)\n",
        ")\n",
        "\n",
        "feat =[ 0.3, .5, 0.8]\n",
        "train_scores, val_scores=validation_curve(\n",
        "    pipeline_bag1, X_train,y_train,\n",
        "    param_name='baggingclassifier__max_features',\n",
        "    param_range=feat, scoring='accuracy',\n",
        "    cv= 3,\n",
        "    n_jobs=-1\n",
        ")\n",
        "\n",
        "pipeline_bag1.fit(X_train, y_train)\n",
        "print(pipeline_bag1.score(X_train, y_train))\n",
        "print(pipeline_bag1.score(X_val, y_val))"
      ],
      "execution_count": 44,
      "outputs": [
        {
          "output_type": "stream",
          "text": [
            "0.9671861817858888\n",
            "0.8108371639504109\n"
          ],
          "name": "stdout"
        }
      ]
    },
    {
      "cell_type": "code",
      "metadata": {
        "id": "8-E0hI_diphC",
        "colab_type": "code",
        "colab": {
          "base_uri": "https://localhost:8080/",
          "height": 388
        },
        "outputId": "1aad5228-c616-4232-8aad-68bd0ae235da"
      },
      "source": [
        "#Confusion Matrix\n",
        "from sklearn.metrics import plot_confusion_matrix\n",
        "\n",
        "plot_confusion_matrix(pipeline_bag1, \n",
        "                      X_val,y_val,\n",
        "                      values_format='.2f',\n",
        "                      xticks_rotation='vertical',\n",
        "                      cmap='Blues',\n",
        "                      normalize= 'true'\n",
        ");\n"
      ],
      "execution_count": 45,
      "outputs": [
        {
          "output_type": "display_data",
          "data": {
            "image/png": "[encoded data removed]",
            "text/plain": [
              "<Figure size 432x288 with 2 Axes>"
            ]
          },
          "metadata": {
            "tags": [],
            "needs_background": "light"
          }
        }
      ]
    },
    {
      "cell_type": "code",
      "metadata": {
        "id": "tYX5Hn9DiwrJ",
        "colab_type": "code",
        "colab": {
          "base_uri": "https://localhost:8080/",
          "height": 199
        },
        "outputId": "0e06db05-b4c3-43d5-a164-a174eec2c7cc"
      },
      "source": [
        "# Classification Report\n",
        "from sklearn.metrics import classification_report\n",
        "\n",
        "print(classification_report(y_val, y_pred))"
      ],
      "execution_count": 46,
      "outputs": [
        {
          "output_type": "stream",
          "text": [
            "                         precision    recall  f1-score   support\n",
            "\n",
            "             functional       0.81      0.89      0.85      7798\n",
            "functional needs repair       0.57      0.32      0.41      1043\n",
            "         non functional       0.84      0.79      0.81      5517\n",
            "\n",
            "               accuracy                           0.81     14358\n",
            "              macro avg       0.74      0.67      0.69     14358\n",
            "           weighted avg       0.80      0.81      0.80     14358\n",
            "\n"
          ],
          "name": "stdout"
        }
      ]
    },
    {
      "cell_type": "code",
      "metadata": {
        "id": "mNpnCOj-6aiK",
        "colab_type": "code",
        "colab": {
          "base_uri": "https://localhost:8080/",
          "height": 90
        },
        "outputId": "75b2971d-92ee-4828-d789-fa0b726129f1"
      },
      "source": [
        "# Checking the percentages of each predictions\n",
        "\n",
        "y_train.value_counts(normalize=True)"
      ],
      "execution_count": 53,
      "outputs": [
        {
          "output_type": "execute_result",
          "data": {
            "text/plain": [
              "functional                 0.543071\n",
              "non functional             0.384241\n",
              "functional needs repair    0.072688\n",
              "Name: status_group, dtype: float64"
            ]
          },
          "metadata": {
            "tags": []
          },
          "execution_count": 53
        }
      ]
    },
    {
      "cell_type": "code",
      "metadata": {
        "id": "yN-2ivMp6za4",
        "colab_type": "code",
        "colab": {
          "base_uri": "https://localhost:8080/",
          "height": 72
        },
        "outputId": "d712cd2c-13c5-4d7a-926e-c2c0c277506f"
      },
      "source": [
        "#Grouping 'funtional but needs repair' and 'non functional' together\n",
        "\n",
        "y_train=y_train !='functional'\n",
        "y_val=y_val !='functional'\n",
        "y_train.value_counts(normalize=True)"
      ],
      "execution_count": 54,
      "outputs": [
        {
          "output_type": "execute_result",
          "data": {
            "text/plain": [
              "False    0.543071\n",
              "True     0.456929\n",
              "Name: status_group, dtype: float64"
            ]
          },
          "metadata": {
            "tags": []
          },
          "execution_count": 54
        }
      ]
    },
    {
      "cell_type": "code",
      "metadata": {
        "id": "g4J1NY9B7boc",
        "colab_type": "code",
        "colab": {
          "base_uri": "https://localhost:8080/",
          "height": 35
        },
        "outputId": "544b3dbf-0abc-43ac-81f1-1064e8a20e93"
      },
      "source": [
        "len(val)==len(test)"
      ],
      "execution_count": 55,
      "outputs": [
        {
          "output_type": "execute_result",
          "data": {
            "text/plain": [
              "True"
            ]
          },
          "metadata": {
            "tags": []
          },
          "execution_count": 55
        }
      ]
    },
    {
      "cell_type": "code",
      "metadata": {
        "id": "TBWkkDH97v-8",
        "colab_type": "code",
        "colab": {}
      },
      "source": [
        "# Retraining the dataset using the new grouping\n",
        "\n",
        "pipeline_bag1.fit(X_train, y_train)\n",
        "y_pred=pipeline_bag1.predict(X_val)"
      ],
      "execution_count": 0,
      "outputs": []
    },
    {
      "cell_type": "code",
      "metadata": {
        "id": "Ple7xpt24wtT",
        "colab_type": "code",
        "colab": {
          "base_uri": "https://localhost:8080/",
          "height": 35
        },
        "outputId": "f97af160-f2e8-44d8-f8f1-2aab13fbe3b1"
      },
      "source": [
        "# Determining the probablities for TRUE(needs repair or nonfunctional)\n",
        "\n",
        "y_pred_prob_pipeline_bag1= pipeline_bag1.predict_proba(X_val)[:,1]\n",
        "y_pred_prob_pipeline_bag1"
      ],
      "execution_count": 58,
      "outputs": [
        {
          "output_type": "execute_result",
          "data": {
            "text/plain": [
              "array([0.99 , 0.82 , 0.1  , ..., 0.15 , 0.51 , 0.045])"
            ]
          },
          "metadata": {
            "tags": []
          },
          "execution_count": 58
        }
      ]
    },
    {
      "cell_type": "code",
      "metadata": {
        "id": "_WTomP0L55tR",
        "colab_type": "code",
        "colab": {
          "base_uri": "https://localhost:8080/",
          "height": 535,
          "referenced_widgets": [
            "4a636d5a1b974f569652887bab0f9974",
            "bae2ac9426f64e989a81d5a237f502d0",
            "201a01bc700940e0aebcb36ee0a93835",
            "a9a47c1ba79545609448db87ce3bf779",
            "eef4615614014d479c2beff7c4e726ce",
            "5e8b058531d5473db4a9dd55ccefc94d",
            "667b0037f1614d16bfbfbcd8cf1663c7"
          ]
        },
        "outputId": "8e006074-7956-4ee1-f7be-860f6db824d7"
      },
      "source": [
        "import seaborn as sns\n",
        "from ipywidgets import interact, fixed\n",
        "\n",
        "y_pred_prob_pipeline_bag1=pipeline_bag1.predict_proba(X_val)[:,1]\n",
        "\n",
        "def set_threshold(y_true, y_pred_prob_pipeline_bag1, threshold=0.5):\n",
        "  y_pred=y_pred_prob_pipeline_bag1 > threshold\n",
        "\n",
        "  ax= sns.distplot(y_pred_prob_pipeline_bag1);\n",
        "  ax.axvline(threshold, color='red');\n",
        "  plt.show();\n",
        "\n",
        "  print (classification_report(y_true, y_pred))\n",
        "  print(pd.Series(y_pred).value_counts())\n",
        "\n",
        "interact(set_threshold,\n",
        "         y_true=fixed(y_val),\n",
        "         y_pred_prob_pipeline_bag1=fixed(y_pred_prob_pipeline_bag1),\n",
        "         threshold=(0, 1, 0.02))"
      ],
      "execution_count": 65,
      "outputs": [
        {
          "output_type": "display_data",
          "data": {
            "application/vnd.jupyter.widget-view+json": {
              "model_id": "4a636d5a1b974f569652887bab0f9974",
              "version_minor": 0,
              "version_major": 2
            },
            "text/plain": [
              "interactive(children=(FloatSlider(value=0.5, description='threshold', max=1.0, step=0.02), Output()), _dom_cla…"
            ]
          },
          "metadata": {
            "tags": []
          }
        },
        {
          "output_type": "execute_result",
          "data": {
            "text/plain": [
              "<function __main__.set_threshold>"
            ]
          },
          "metadata": {
            "tags": []
          },
          "execution_count": 65
        }
      ]
    },
    {
      "cell_type": "code",
      "metadata": {
        "id": "mDgGKRVEDmvU",
        "colab_type": "code",
        "colab": {
          "base_uri": "https://localhost:8080/",
          "height": 407
        },
        "outputId": "e90b1670-166a-4595-bbfb-1d29b1859258"
      },
      "source": [
        "# Identify the 2000 waterpumps with highest predicted probabilities\n",
        "\n",
        "results = pd.DataFrame({'y_val':y_val, 'y_pred_prob': y_pred_prob_pipeline_bag1})\n",
        "results"
      ],
      "execution_count": 66,
      "outputs": [
        {
          "output_type": "execute_result",
          "data": {
            "text/html": [
              "<div>\n",
              "<style scoped>\n",
              "    .dataframe tbody tr th:only-of-type {\n",
              "        vertical-align: middle;\n",
              "    }\n",
              "\n",
              "    .dataframe tbody tr th {\n",
              "        vertical-align: top;\n",
              "    }\n",
              "\n",
              "    .dataframe thead th {\n",
              "        text-align: right;\n",
              "    }\n",
              "</style>\n",
              "<table border=\"1\" class=\"dataframe\">\n",
              "  <thead>\n",
              "    <tr style=\"text-align: right;\">\n",
              "      <th></th>\n",
              "      <th>y_val</th>\n",
              "      <th>y_pred_prob</th>\n",
              "    </tr>\n",
              "  </thead>\n",
              "  <tbody>\n",
              "    <tr>\n",
              "      <th>58046</th>\n",
              "      <td>True</td>\n",
              "      <td>0.990</td>\n",
              "    </tr>\n",
              "    <tr>\n",
              "      <th>41184</th>\n",
              "      <td>True</td>\n",
              "      <td>0.820</td>\n",
              "    </tr>\n",
              "    <tr>\n",
              "      <th>27587</th>\n",
              "      <td>False</td>\n",
              "      <td>0.100</td>\n",
              "    </tr>\n",
              "    <tr>\n",
              "      <th>53109</th>\n",
              "      <td>False</td>\n",
              "      <td>0.030</td>\n",
              "    </tr>\n",
              "    <tr>\n",
              "      <th>7245</th>\n",
              "      <td>True</td>\n",
              "      <td>0.590</td>\n",
              "    </tr>\n",
              "    <tr>\n",
              "      <th>...</th>\n",
              "      <td>...</td>\n",
              "      <td>...</td>\n",
              "    </tr>\n",
              "    <tr>\n",
              "      <th>18760</th>\n",
              "      <td>False</td>\n",
              "      <td>0.730</td>\n",
              "    </tr>\n",
              "    <tr>\n",
              "      <th>36059</th>\n",
              "      <td>True</td>\n",
              "      <td>0.780</td>\n",
              "    </tr>\n",
              "    <tr>\n",
              "      <th>4759</th>\n",
              "      <td>False</td>\n",
              "      <td>0.150</td>\n",
              "    </tr>\n",
              "    <tr>\n",
              "      <th>43621</th>\n",
              "      <td>False</td>\n",
              "      <td>0.510</td>\n",
              "    </tr>\n",
              "    <tr>\n",
              "      <th>45295</th>\n",
              "      <td>False</td>\n",
              "      <td>0.045</td>\n",
              "    </tr>\n",
              "  </tbody>\n",
              "</table>\n",
              "<p>14358 rows × 2 columns</p>\n",
              "</div>"
            ],
            "text/plain": [
              "       y_val  y_pred_prob\n",
              "58046   True        0.990\n",
              "41184   True        0.820\n",
              "27587  False        0.100\n",
              "53109  False        0.030\n",
              "7245    True        0.590\n",
              "...      ...          ...\n",
              "18760  False        0.730\n",
              "36059   True        0.780\n",
              "4759   False        0.150\n",
              "43621  False        0.510\n",
              "45295  False        0.045\n",
              "\n",
              "[14358 rows x 2 columns]"
            ]
          },
          "metadata": {
            "tags": []
          },
          "execution_count": 66
        }
      ]
    },
    {
      "cell_type": "code",
      "metadata": {
        "id": "2rpbVT6UD_3U",
        "colab_type": "code",
        "colab": {
          "base_uri": "https://localhost:8080/",
          "height": 407
        },
        "outputId": "4bfa5cc5-4dfd-4679-8235-4ff474ad2d2a"
      },
      "source": [
        "top2000=results.sort_values(by='y_pred_prob', ascending=False)[:2000]\n",
        "top2000"
      ],
      "execution_count": 69,
      "outputs": [
        {
          "output_type": "execute_result",
          "data": {
            "text/html": [
              "<div>\n",
              "<style scoped>\n",
              "    .dataframe tbody tr th:only-of-type {\n",
              "        vertical-align: middle;\n",
              "    }\n",
              "\n",
              "    .dataframe tbody tr th {\n",
              "        vertical-align: top;\n",
              "    }\n",
              "\n",
              "    .dataframe thead th {\n",
              "        text-align: right;\n",
              "    }\n",
              "</style>\n",
              "<table border=\"1\" class=\"dataframe\">\n",
              "  <thead>\n",
              "    <tr style=\"text-align: right;\">\n",
              "      <th></th>\n",
              "      <th>y_val</th>\n",
              "      <th>y_pred_prob</th>\n",
              "    </tr>\n",
              "  </thead>\n",
              "  <tbody>\n",
              "    <tr>\n",
              "      <th>26882</th>\n",
              "      <td>True</td>\n",
              "      <td>1.00</td>\n",
              "    </tr>\n",
              "    <tr>\n",
              "      <th>23969</th>\n",
              "      <td>True</td>\n",
              "      <td>1.00</td>\n",
              "    </tr>\n",
              "    <tr>\n",
              "      <th>39671</th>\n",
              "      <td>True</td>\n",
              "      <td>1.00</td>\n",
              "    </tr>\n",
              "    <tr>\n",
              "      <th>10043</th>\n",
              "      <td>True</td>\n",
              "      <td>1.00</td>\n",
              "    </tr>\n",
              "    <tr>\n",
              "      <th>8834</th>\n",
              "      <td>True</td>\n",
              "      <td>1.00</td>\n",
              "    </tr>\n",
              "    <tr>\n",
              "      <th>...</th>\n",
              "      <td>...</td>\n",
              "      <td>...</td>\n",
              "    </tr>\n",
              "    <tr>\n",
              "      <th>34769</th>\n",
              "      <td>True</td>\n",
              "      <td>0.88</td>\n",
              "    </tr>\n",
              "    <tr>\n",
              "      <th>30523</th>\n",
              "      <td>True</td>\n",
              "      <td>0.88</td>\n",
              "    </tr>\n",
              "    <tr>\n",
              "      <th>36653</th>\n",
              "      <td>True</td>\n",
              "      <td>0.88</td>\n",
              "    </tr>\n",
              "    <tr>\n",
              "      <th>20972</th>\n",
              "      <td>True</td>\n",
              "      <td>0.88</td>\n",
              "    </tr>\n",
              "    <tr>\n",
              "      <th>51062</th>\n",
              "      <td>True</td>\n",
              "      <td>0.88</td>\n",
              "    </tr>\n",
              "  </tbody>\n",
              "</table>\n",
              "<p>2000 rows × 2 columns</p>\n",
              "</div>"
            ],
            "text/plain": [
              "       y_val  y_pred_prob\n",
              "26882   True         1.00\n",
              "23969   True         1.00\n",
              "39671   True         1.00\n",
              "10043   True         1.00\n",
              "8834    True         1.00\n",
              "...      ...          ...\n",
              "34769   True         0.88\n",
              "30523   True         0.88\n",
              "36653   True         0.88\n",
              "20972   True         0.88\n",
              "51062   True         0.88\n",
              "\n",
              "[2000 rows x 2 columns]"
            ]
          },
          "metadata": {
            "tags": []
          },
          "execution_count": 69
        }
      ]
    },
    {
      "cell_type": "code",
      "metadata": {
        "id": "4b9TDhJ_EzAt",
        "colab_type": "code",
        "colab": {
          "base_uri": "https://localhost:8080/",
          "height": 54
        },
        "outputId": "7c07d021-de44-4ece-9ade-44efde007120"
      },
      "source": [
        "# How many of our recommendations were relevant?\n",
        "\n",
        "trips = 2000\n",
        "print(f'Baseline: {trips*.46} waterpump repairs in {trips} trips')\n",
        "\n",
        "relevant_recommendations = top2000['y_val'].sum()\n",
        "print(f'With model:Predict {relevant_recommendations} waterpump repairs in {trips} trips')"
      ],
      "execution_count": 70,
      "outputs": [
        {
          "output_type": "stream",
          "text": [
            "Baseline: 920.0 waterpump repairs in 2000 trips\n",
            "With model:Predict 1970 waterpump repairs in 2000 trips\n"
          ],
          "name": "stdout"
        }
      ]
    },
    {
      "cell_type": "code",
      "metadata": {
        "id": "Xc-5p-JFF5ci",
        "colab_type": "code",
        "colab": {
          "base_uri": "https://localhost:8080/",
          "height": 35
        },
        "outputId": "6d56049d-d746-476f-beee-ac1450de1a98"
      },
      "source": [
        "# Computing precision on the top 2000 waterpumps\n",
        "\n",
        "precision_at_k2000= relevant_recommendations/trips\n",
        "precision_at_k2000"
      ],
      "execution_count": 71,
      "outputs": [
        {
          "output_type": "execute_result",
          "data": {
            "text/plain": [
              "0.985"
            ]
          },
          "metadata": {
            "tags": []
          },
          "execution_count": 71
        }
      ]
    },
    {
      "cell_type": "code",
      "metadata": {
        "id": "af51iK8lH6FS",
        "colab_type": "code",
        "colab": {
          "base_uri": "https://localhost:8080/",
          "height": 295
        },
        "outputId": "9e8ff8f5-a9d6-4317-af82-b6aef8c562c6"
      },
      "source": [
        "#ROC Curve\n",
        "\n",
        "from sklearn.metrics import roc_curve\n",
        "\n",
        "fpr, tpr, thresholds = roc_curve(y_val, y_pred_prob_pipeline_bag1)\n",
        "\n",
        "plt.scatter(fpr, tpr)\n",
        "plt.title(\"ROC Curve\")\n",
        "plt.xlabel('False Positive Rate')\n",
        "plt.ylabel(\"True Positive Rate\");"
      ],
      "execution_count": 77,
      "outputs": [
        {
          "output_type": "display_data",
          "data": {
            "image/png": "[encoded data removed]",
            "text/plain": [
              "<Figure size 432x288 with 1 Axes>"
            ]
          },
          "metadata": {
            "tags": [],
            "needs_background": "light"
          }
        }
      ]
    },
    {
      "cell_type": "code",
      "metadata": {
        "id": "H76gR_29IyPj",
        "colab_type": "code",
        "colab": {
          "base_uri": "https://localhost:8080/",
          "height": 35
        },
        "outputId": "fae418f2-7262-4dd6-bd7f-e4164df96085"
      },
      "source": [
        "# Area under the curve\n",
        "\n",
        "from sklearn.metrics import  roc_auc_score\n",
        "roc_auc_score(y_val, y_pred_prob_pipeline_bag1)"
      ],
      "execution_count": 78,
      "outputs": [
        {
          "output_type": "execute_result",
          "data": {
            "text/plain": [
              "0.9038100568313326"
            ]
          },
          "metadata": {
            "tags": []
          },
          "execution_count": 78
        }
      ]
    },
    {
      "cell_type": "code",
      "metadata": {
        "id": "2Z4UgbneIPSZ",
        "colab_type": "code",
        "colab": {
          "base_uri": "https://localhost:8080/",
          "height": 407
        },
        "outputId": "09316463-8955-4ba9-847d-c26c0acaeb75"
      },
      "source": [
        "#Tabulating the results\n",
        "\n",
        "pd.DataFrame({'False Positive Rate':fpr,\n",
        "              'True Positive Rate': tpr,\n",
        "              'Threshold':thresholds}\n",
        ")"
      ],
      "execution_count": 75,
      "outputs": [
        {
          "output_type": "execute_result",
          "data": {
            "text/html": [
              "<div>\n",
              "<style scoped>\n",
              "    .dataframe tbody tr th:only-of-type {\n",
              "        vertical-align: middle;\n",
              "    }\n",
              "\n",
              "    .dataframe tbody tr th {\n",
              "        vertical-align: top;\n",
              "    }\n",
              "\n",
              "    .dataframe thead th {\n",
              "        text-align: right;\n",
              "    }\n",
              "</style>\n",
              "<table border=\"1\" class=\"dataframe\">\n",
              "  <thead>\n",
              "    <tr style=\"text-align: right;\">\n",
              "      <th></th>\n",
              "      <th>False Positive Rate</th>\n",
              "      <th>True Positive Rate</th>\n",
              "      <th>Threshold</th>\n",
              "    </tr>\n",
              "  </thead>\n",
              "  <tbody>\n",
              "    <tr>\n",
              "      <th>0</th>\n",
              "      <td>0.000000</td>\n",
              "      <td>0.000000</td>\n",
              "      <td>2.000000</td>\n",
              "    </tr>\n",
              "    <tr>\n",
              "      <th>1</th>\n",
              "      <td>0.000128</td>\n",
              "      <td>0.027134</td>\n",
              "      <td>1.000000</td>\n",
              "    </tr>\n",
              "    <tr>\n",
              "      <th>2</th>\n",
              "      <td>0.000128</td>\n",
              "      <td>0.027439</td>\n",
              "      <td>0.998889</td>\n",
              "    </tr>\n",
              "    <tr>\n",
              "      <th>3</th>\n",
              "      <td>0.000385</td>\n",
              "      <td>0.060061</td>\n",
              "      <td>0.990000</td>\n",
              "    </tr>\n",
              "    <tr>\n",
              "      <th>4</th>\n",
              "      <td>0.000385</td>\n",
              "      <td>0.060213</td>\n",
              "      <td>0.986667</td>\n",
              "    </tr>\n",
              "    <tr>\n",
              "      <th>...</th>\n",
              "      <td>...</td>\n",
              "      <td>...</td>\n",
              "      <td>...</td>\n",
              "    </tr>\n",
              "    <tr>\n",
              "      <th>815</th>\n",
              "      <td>0.965376</td>\n",
              "      <td>0.999085</td>\n",
              "      <td>0.015000</td>\n",
              "    </tr>\n",
              "    <tr>\n",
              "      <th>816</th>\n",
              "      <td>0.965632</td>\n",
              "      <td>0.999085</td>\n",
              "      <td>0.012500</td>\n",
              "    </tr>\n",
              "    <tr>\n",
              "      <th>817</th>\n",
              "      <td>0.980764</td>\n",
              "      <td>0.999543</td>\n",
              "      <td>0.010000</td>\n",
              "    </tr>\n",
              "    <tr>\n",
              "      <th>818</th>\n",
              "      <td>0.980893</td>\n",
              "      <td>0.999543</td>\n",
              "      <td>0.004000</td>\n",
              "    </tr>\n",
              "    <tr>\n",
              "      <th>819</th>\n",
              "      <td>1.000000</td>\n",
              "      <td>1.000000</td>\n",
              "      <td>0.000000</td>\n",
              "    </tr>\n",
              "  </tbody>\n",
              "</table>\n",
              "<p>820 rows × 3 columns</p>\n",
              "</div>"
            ],
            "text/plain": [
              "     False Positive Rate  True Positive Rate  Threshold\n",
              "0               0.000000            0.000000   2.000000\n",
              "1               0.000128            0.027134   1.000000\n",
              "2               0.000128            0.027439   0.998889\n",
              "3               0.000385            0.060061   0.990000\n",
              "4               0.000385            0.060213   0.986667\n",
              "..                   ...                 ...        ...\n",
              "815             0.965376            0.999085   0.015000\n",
              "816             0.965632            0.999085   0.012500\n",
              "817             0.980764            0.999543   0.010000\n",
              "818             0.980893            0.999543   0.004000\n",
              "819             1.000000            1.000000   0.000000\n",
              "\n",
              "[820 rows x 3 columns]"
            ]
          },
          "metadata": {
            "tags": []
          },
          "execution_count": 75
        }
      ]
    },
    {
      "cell_type": "code",
      "metadata": {
        "id": "TwgjnW1ZIwup",
        "colab_type": "code",
        "colab": {}
      },
      "source": [
        ""
      ],
      "execution_count": 0,
      "outputs": []
    }
  ]
}