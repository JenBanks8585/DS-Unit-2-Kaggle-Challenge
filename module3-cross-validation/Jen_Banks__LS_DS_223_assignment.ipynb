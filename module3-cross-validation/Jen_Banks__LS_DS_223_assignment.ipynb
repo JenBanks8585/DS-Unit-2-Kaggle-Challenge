{
  "nbformat": 4,
  "nbformat_minor": 0,
  "metadata": {
    "kernelspec": {
      "display_name": "Python 3",
      "language": "python",
      "name": "python3"
    },
    "language_info": {
      "codemirror_mode": {
        "name": "ipython",
        "version": 3
      },
      "file_extension": ".py",
      "mimetype": "text/x-python",
      "name": "python",
      "nbconvert_exporter": "python",
      "pygments_lexer": "ipython3",
      "version": "3.7.6"
    },
    "colab": {
      "name": "Jen_Banks_ LS_DS_223_assignment.ipynb",
      "provenance": [],
      "include_colab_link": true
    }
  },
  "cells": [
    {
      "cell_type": "markdown",
      "metadata": {
        "id": "view-in-github",
        "colab_type": "text"
      },
      "source": [
        "<a href=\"https://colab.research.google.com/github/JenBanks8585/DS-Unit-2-Kaggle-Challenge/blob/master/module3-cross-validation/Jen_Banks__LS_DS_223_assignment.ipynb\" target=\"_parent\"><img src=\"https://colab.research.google.com/assets/colab-badge.svg\" alt=\"Open In Colab\"/></a>"
      ]
    },
    {
      "cell_type": "markdown",
      "metadata": {
        "id": "5qddOKpiiTfh",
        "colab_type": "text"
      },
      "source": [
        "Lambda School Data Science\n",
        "\n",
        "*Unit 2, Sprint 2, Module 3*\n",
        "\n",
        "---"
      ]
    },
    {
      "cell_type": "markdown",
      "metadata": {
        "id": "HVk3DGhPiTfp",
        "colab_type": "text"
      },
      "source": [
        "# Cross-Validation\n",
        "\n",
        "\n",
        "## Assignment\n",
        "- [ ] [Review requirements for your portfolio project](https://lambdaschool.github.io/ds/unit2), then submit your dataset.\n",
        "- [ ] Continue to participate in our Kaggle challenge. \n",
        "- [ ] Use scikit-learn for hyperparameter optimization with RandomizedSearchCV.\n",
        "- [ ] Submit your predictions to our Kaggle competition. (Go to our Kaggle InClass competition webpage. Use the blue **Submit Predictions** button to upload your CSV file. Or you can use the Kaggle API to submit your predictions.)\n",
        "- [ ] Commit your notebook to your fork of the GitHub repo.\n",
        "\n",
        "\n",
        "You won't be able to just copy from the lesson notebook to this assignment.\n",
        "\n",
        "- Because the lesson was ***regression***, but the assignment is ***classification.***\n",
        "- Because the lesson used [TargetEncoder](https://contrib.scikit-learn.org/categorical-encoding/targetencoder.html), which doesn't work as-is for _multi-class_ classification.\n",
        "\n",
        "So you will have to adapt the example, which is good real-world practice.\n",
        "\n",
        "1. Use a model for classification, such as [RandomForestClassifier](https://scikit-learn.org/stable/modules/generated/sklearn.ensemble.RandomForestClassifier.html)\n",
        "2. Use hyperparameters that match the classifier, such as `randomforestclassifier__ ...`\n",
        "3. Use a metric for classification, such as [`scoring='accuracy'`](https://scikit-learn.org/stable/modules/model_evaluation.html#common-cases-predefined-values)\n",
        "4. If you’re doing a multi-class classification problem — such as whether a waterpump is functional, functional needs repair, or nonfunctional — then use a categorical encoding that works for multi-class classification, such as [OrdinalEncoder](https://contrib.scikit-learn.org/categorical-encoding/ordinal.html) (not [TargetEncoder](https://contrib.scikit-learn.org/categorical-encoding/targetencoder.html))\n",
        "\n",
        "\n",
        "\n",
        "## Stretch Goals\n",
        "\n",
        "### Reading\n",
        "- Jake VanderPlas, [Python Data Science Handbook, Chapter 5.3](https://jakevdp.github.io/PythonDataScienceHandbook/05.03-hyperparameters-and-model-validation.html), Hyperparameters and Model Validation\n",
        "- Jake VanderPlas, [Statistics for Hackers](https://speakerdeck.com/jakevdp/statistics-for-hackers?slide=107)\n",
        "- Ron Zacharski, [A Programmer's Guide to Data Mining, Chapter 5](http://guidetodatamining.com/chapter5/), 10-fold cross validation\n",
        "- Sebastian Raschka, [A Basic Pipeline and Grid Search Setup](https://github.com/rasbt/python-machine-learning-book/blob/master/code/bonus/svm_iris_pipeline_and_gridsearch.ipynb)\n",
        "- Peter Worcester, [A Comparison of Grid Search and Randomized Search Using Scikit Learn](https://blog.usejournal.com/a-comparison-of-grid-search-and-randomized-search-using-scikit-learn-29823179bc85)\n",
        "\n",
        "### Doing\n",
        "- Add your own stretch goals!\n",
        "- Try other [categorical encodings](https://contrib.scikit-learn.org/categorical-encoding/). See the previous assignment notebook for details.\n",
        "- In additon to `RandomizedSearchCV`, scikit-learn has [`GridSearchCV`](https://scikit-learn.org/stable/modules/generated/sklearn.model_selection.GridSearchCV.html). Another library called scikit-optimize has [`BayesSearchCV`](https://scikit-optimize.github.io/notebooks/sklearn-gridsearchcv-replacement.html). Experiment with these alternatives.\n",
        "- _[Introduction to Machine Learning with Python](http://shop.oreilly.com/product/0636920030515.do)_ discusses options for \"Grid-Searching Which Model To Use\" in Chapter 6:\n",
        "\n",
        "> You can even go further in combining GridSearchCV and Pipeline: it is also possible to search over the actual steps being performed in the pipeline (say whether to use StandardScaler or MinMaxScaler). This leads to an even bigger search space and should be considered carefully. Trying all possible solutions is usually not a viable machine learning strategy. However, here is an example comparing a RandomForestClassifier and an SVC ...\n",
        "\n",
        "The example is shown in [the accompanying notebook](https://github.com/amueller/introduction_to_ml_with_python/blob/master/06-algorithm-chains-and-pipelines.ipynb), code cells 35-37. Could you apply this concept to your own pipelines?\n"
      ]
    },
    {
      "cell_type": "markdown",
      "metadata": {
        "id": "nZc-njxtiTft",
        "colab_type": "text"
      },
      "source": [
        "### BONUS: Stacking!\n",
        "\n",
        "Here's some code you can use to \"stack\" multiple submissions, which is another form of ensembling:\n",
        "\n",
        "```python\n",
        "import pandas as pd\n",
        "\n",
        "# Filenames of your submissions you want to ensemble\n",
        "files = ['submission-01.csv', 'submission-02.csv', 'submission-03.csv']\n",
        "\n",
        "target = 'status_group'\n",
        "submissions = (pd.read_csv(file)[[target]] for file in files)\n",
        "ensemble = pd.concat(submissions, axis='columns')\n",
        "majority_vote = ensemble.mode(axis='columns')[0]\n",
        "\n",
        "sample_submission = pd.read_csv('sample_submission.csv')\n",
        "submission = sample_submission.copy()\n",
        "submission[target] = majority_vote\n",
        "submission.to_csv('my-ultimate-ensemble-submission.csv', index=False)\n",
        "```"
      ]
    },
    {
      "cell_type": "code",
      "metadata": {
        "id": "5zuDQtrKiThB",
        "colab_type": "code",
        "colab": {}
      },
      "source": [
        "%%capture\n",
        "import sys\n",
        "\n",
        "# If you're on Colab:\n",
        "if 'google.colab' in sys.modules:\n",
        "    DATA_PATH = 'https://raw.githubusercontent.com/LambdaSchool/DS-Unit-2-Kaggle-Challenge/master/data/'\n",
        "    !pip install category_encoders==2.*\n",
        "\n",
        "# If you're working locally:\n",
        "else:\n",
        "    DATA_PATH = '../data/'"
      ],
      "execution_count": 0,
      "outputs": []
    },
    {
      "cell_type": "code",
      "metadata": {
        "id": "lp5wCX1eiThV",
        "colab_type": "code",
        "colab": {}
      },
      "source": [
        "import pandas as pd\n",
        "\n",
        "# Merge train_features.csv & train_labels.csv\n",
        "train_orig = pd.merge(pd.read_csv(DATA_PATH+'waterpumps/train_features.csv'), \n",
        "                 pd.read_csv(DATA_PATH+'waterpumps/train_labels.csv'))\n",
        "\n",
        "# Read test_features.csv & sample_submission.csv\n",
        "test_orig = pd.read_csv(DATA_PATH+'waterpumps/test_features.csv')\n",
        "sample_submission = pd.read_csv(DATA_PATH+'waterpumps/sample_submission.csv')"
      ],
      "execution_count": 0,
      "outputs": []
    },
    {
      "cell_type": "code",
      "metadata": {
        "id": "OfQ_Co2EiThe",
        "colab_type": "code",
        "colab": {}
      },
      "source": [
        "# imports\n",
        "import pandas as pd\n",
        "import numpy as np\n",
        "from sklearn.model_selection import train_test_split\n",
        "\n",
        "import category_encoders as ce\n",
        "from sklearn.impute import SimpleImputer\n",
        "from sklearn.ensemble import RandomForestClassifier, BaggingClassifier\n",
        "from sklearn.ensemble import AdaBoostClassifier, VotingClassifier\n",
        "from sklearn.ensemble import GradientBoostingClassifier\n",
        "from sklearn.pipeline import make_pipeline\n",
        "from sklearn.preprocessing import StandardScaler\n"
      ],
      "execution_count": 0,
      "outputs": []
    },
    {
      "cell_type": "code",
      "metadata": {
        "id": "5Pbt2H4yfJI4",
        "colab_type": "code",
        "colab": {}
      },
      "source": [
        "# Split train data set\n",
        "train=train_orig.copy()\n",
        "test=test_orig.copy()\n",
        "\n",
        "train, val = train_test_split(train, test_size=0.2)"
      ],
      "execution_count": 0,
      "outputs": []
    },
    {
      "cell_type": "code",
      "metadata": {
        "id": "BbxvradAfXOx",
        "colab_type": "code",
        "colab": {}
      },
      "source": [
        "# Data Wranggling\n",
        "\n",
        "def wrangle(X):\n",
        "    \"\"\"Wrangle train, validate, and test sets in the same way\"\"\"\n",
        "    \n",
        "    # Prevent SettingWithCopyWarning\n",
        "    X = X.copy()\n",
        "    \n",
        "    # About 6.1% of 'funder' cell are missing, fill with mode\n",
        "    X['funder']=X['funder'].fillna(X.funder.mode()[0], inplace=False)\n",
        "\n",
        "    # About 6.2% of 'installer' cell are missing, fill with mode\n",
        "    X['installer']=X['installer'].fillna(X['installer'].mode()[0], inplace=False)\n",
        "\n",
        "    # About 3% of the time, latitude has small values near zero,\n",
        "    # outside Tanzania, so we'll treat these values like zero.\n",
        "    X['latitude'] = X['latitude'].replace(-2e-08, 0)\n",
        "\n",
        "     # About 5.7% of 'public_meeting' cell are missing, fill with mode\n",
        "    X['public_meeting']=X['public_meeting'].fillna(X['public_meeting'].mode()[0],\n",
        "                                                   inplace=False)\n",
        "\n",
        "    # About 6.5% of 'public_meeting' cell are missing, fill with mode\n",
        "    X['scheme_management']=X['scheme_management'].fillna(X['scheme_management'].mode()[0],\n",
        "                                                         inplace=False)\n",
        "    \n",
        "    # About 5.2% of 'public_meeting' cell are missing, fill with mode\n",
        "    X['permit']=X['permit'].fillna(X['permit'].mode()[0], inplace=False)\n",
        "    \n",
        "    # When columns have zeros and shouldn't, they are like null values.\n",
        "    # So we will replace the zeros with nulls, and impute missing values later.\n",
        "    # Also create a \"missing indicator\" column, because the fact that\n",
        "    # values are missing may be a predictive signal.\n",
        "    cols_with_zeros = ['longitude', 'latitude', 'construction_year', \n",
        "                       'gps_height', 'population']\n",
        "    for col in cols_with_zeros:\n",
        "        X[col] = X[col].replace(0, np.nan)\n",
        "        X[col+'_MISSING'] = X[col].isnull()\n",
        "            \n",
        "    # Drop duplicate columns\n",
        "    duplicates = ['quantity_group', 'payment_type']\n",
        "    X = X.drop(columns=duplicates)\n",
        "    \n",
        "    # Drop recorded_by (never varies) and id (always varies, random)\n",
        "    unusable_variance = ['recorded_by', 'id']\n",
        "    X = X.drop(columns=unusable_variance)\n",
        "    \n",
        "    # Convert date_recorded to datetime\n",
        "    X['date_recorded'] = pd.to_datetime(X['date_recorded'], infer_datetime_format=True)\n",
        "    \n",
        "    # Extract components from date_recorded, then drop the original column\n",
        "    X['year_recorded'] = X['date_recorded'].dt.year\n",
        "    X['month_recorded'] = X['date_recorded'].dt.month\n",
        "    X['day_recorded'] = X['date_recorded'].dt.day\n",
        "    X = X.drop(columns='date_recorded')\n",
        "    \n",
        "    # Engineer feature: how many years from construction_year to date_recorded\n",
        "    X['years'] = X['year_recorded'] - X['construction_year']\n",
        "    X['years_MISSING'] = X['years'].isnull()\n",
        "    \n",
        "    # return the wrangled dataframe\n",
        "    return X\n",
        "\n",
        "train = wrangle(train)\n",
        "val = wrangle(val)\n",
        "test = wrangle(test)"
      ],
      "execution_count": 0,
      "outputs": []
    },
    {
      "cell_type": "code",
      "metadata": {
        "id": "-OE9gV7pfY16",
        "colab_type": "code",
        "colab": {}
      },
      "source": [
        "# The status_group column is the target\n",
        "target = 'status_group'\n",
        "\n",
        "# Get a dataframe with all train columns except the target\n",
        "train_features = train.drop(columns=[target])\n",
        "\n",
        "# Get a list of the numeric features\n",
        "numeric_features = train_features.select_dtypes(include='number').columns.tolist()\n",
        "\n",
        "# Get a series with the cardinality of the nonnumeric features\n",
        "cardinality = train_features.select_dtypes(exclude='number').nunique()\n",
        "\n",
        "# Get a list of all categorical features with cardinality <= 50\n",
        "categorical_features = cardinality[cardinality <= 50].index.tolist()\n",
        "\n",
        "# Combine the lists \n",
        "features = numeric_features + categorical_features"
      ],
      "execution_count": 0,
      "outputs": []
    },
    {
      "cell_type": "code",
      "metadata": {
        "id": "EVrFuE8AfdYZ",
        "colab_type": "code",
        "colab": {}
      },
      "source": [
        "# Arrange data into X features matrix and y target vector \n",
        "X_train = train[features]\n",
        "y_train = train[target]\n",
        "X_val = val[features]\n",
        "y_val = val[target]\n",
        "X_test = test[features]"
      ],
      "execution_count": 0,
      "outputs": []
    },
    {
      "cell_type": "code",
      "metadata": {
        "id": "DJdekp7SfhFw",
        "colab_type": "code",
        "colab": {
          "base_uri": "https://localhost:8080/",
          "height": 110
        },
        "outputId": "e59fed3f-d9d5-454c-dc47-ddc13a97256c"
      },
      "source": [
        "#using RandomForest, ordinal encoding\n",
        "\n",
        "%matplotlib inline\n",
        "import matplotlib.pyplot as plt\n",
        "from sklearn.model_selection import validation_curve\n",
        "\n",
        "\n",
        "pipeline_rf_ord=make_pipeline(\n",
        "    ce.OrdinalEncoder(),\n",
        "    SimpleImputer(),\n",
        "    RandomForestClassifier()\n",
        ")\n",
        "\n",
        "depth =range( 1, 30, 3)\n",
        "train_scores, val_scores=validation_curve(\n",
        "    pipeline_rf_ord, X_train,y_train,\n",
        "    param_name='randomforestclassifier__max_depth',\n",
        "    param_range=depth, scoring='accuracy',\n",
        "    cv= 3,\n",
        "    n_jobs=-1\n",
        ")\n",
        "\n",
        "pipeline_rf_ord.fit(X_train, y_train)\n",
        "print(pipeline_rf_ord.score(X_train, y_train))\n",
        "print(pipeline_rf_ord.score(X_val, y_val))"
      ],
      "execution_count": 79,
      "outputs": [
        {
          "output_type": "stream",
          "text": [
            "/usr/local/lib/python3.6/dist-packages/joblib/externals/loky/process_executor.py:706: UserWarning: A worker stopped while some jobs were given to the executor. This can be caused by a too short worker timeout or by a memory leak.\n",
            "  \"timeout or by a memory leak.\", UserWarning\n"
          ],
          "name": "stderr"
        },
        {
          "output_type": "stream",
          "text": [
            "0.9978114478114478\n",
            "0.803030303030303\n"
          ],
          "name": "stdout"
        }
      ]
    },
    {
      "cell_type": "code",
      "metadata": {
        "id": "-YueRfJNibtb",
        "colab_type": "code",
        "colab": {
          "base_uri": "https://localhost:8080/",
          "height": 404
        },
        "outputId": "eadb7dd9-8a43-485f-84ac-bac913c42fc5"
      },
      "source": [
        "# Plotting Validation Curve with RandomForest, max depth Hyperparameter\n",
        "\n",
        "plt.figure(dpi=100)\n",
        "plt.plot(depth, np.mean(train_scores, axis=1), color='blue', label='training accuracy')\n",
        "plt.plot(depth, np.mean(val_scores, axis= 1), color='red', label= 'validation accuracy')\n",
        "plt.title('Validation Curve')\n",
        "plt.xlabel('Most Complexity: RandomForestClassifier_Max_depth')\n",
        "plt.ylabel('Model Score: Accuracy')\n",
        "plt.legend();"
      ],
      "execution_count": 80,
      "outputs": [
        {
          "output_type": "display_data",
          "data": {
            "image/png": "[encoded data removed]",
            "text/plain": [
              "<Figure size 600x400 with 1 Axes>"
            ]
          },
          "metadata": {
            "tags": [],
            "needs_background": "light"
          }
        }
      ]
    },
    {
      "cell_type": "code",
      "metadata": {
        "id": "xAV6J2AAj8pQ",
        "colab_type": "code",
        "colab": {
          "base_uri": "https://localhost:8080/",
          "height": 404
        },
        "outputId": "c1a0eb1a-227f-4a18-ef0d-06842e195ee0"
      },
      "source": [
        "#Zooming In\n",
        "\n",
        "plt.figure(dpi=100)\n",
        "plt.plot(depth, np.mean(train_scores, axis=1), color='blue', label='training accuracy')\n",
        "plt.plot(depth, np.mean(val_scores, axis= 1), color='red', label= 'validation accuracy')\n",
        "plt.title('Validation Curve, Zoomed In')\n",
        "plt.xlabel('Most Complexity: RandomForestClassifier_Max_depth')\n",
        "plt.ylabel('Model Score: Accuracy')\n",
        "plt.ylim(0.78, 0.83)\n",
        "plt.legend();"
      ],
      "execution_count": 84,
      "outputs": [
        {
          "output_type": "display_data",
          "data": {
            "image/png": "[encoded data removed]",
            "text/plain": [
              "<Figure size 600x400 with 1 Axes>"
            ]
          },
          "metadata": {
            "tags": [],
            "needs_background": "light"
          }
        }
      ]
    },
    {
      "cell_type": "code",
      "metadata": {
        "id": "1rM6uZYZgYXs",
        "colab_type": "code",
        "colab": {}
      },
      "source": [
        "# Creating a prediction file\n",
        "\n",
        "y_pred_rf_ord=pipeline_rf_ord.predict(X_test)\n",
        "submission_rf_ord=sample_submission.copy()\n",
        "submission_rf_ord['status_group']=y_pred_rf_ord\n",
        "submission_rf_ord.to_csv('submission_rf_ord.csv', index=False)"
      ],
      "execution_count": 0,
      "outputs": []
    },
    {
      "cell_type": "code",
      "metadata": {
        "id": "FTp8g9NMlKvm",
        "colab_type": "code",
        "colab": {
          "base_uri": "https://localhost:8080/",
          "height": 54
        },
        "outputId": "d68136ad-ef76-4a40-efa6-8af87df53365"
      },
      "source": [
        "# Using Bagging ensemble, no replacement\n",
        "from sklearn.tree import DecisionTreeClassifier\n",
        "\n",
        "pipeline_bag1=make_pipeline(\n",
        "    ce.OrdinalEncoder(),\n",
        "    SimpleImputer(),\n",
        "    StandardScaler(),\n",
        "    BaggingClassifier(DecisionTreeClassifier(),\n",
        "                      n_estimators=100,\n",
        "                      max_features=0.6, \n",
        "                      max_samples=0.4, \n",
        "                      bootstrap=False, \n",
        "                      bootstrap_features= False)\n",
        ")\n",
        "\n",
        "feat =[ 0.3, .5, 0.8]\n",
        "train_scores, val_scores=validation_curve(\n",
        "    pipeline_bag1, X_train,y_train,\n",
        "    param_name='baggingclassifier__max_features',\n",
        "    param_range=feat, scoring='accuracy',\n",
        "    cv= 3,\n",
        "    n_jobs=-1\n",
        ")\n",
        "\n",
        "pipeline_bag1.fit(X_train, y_train)\n",
        "print(pipeline_bag1.score(X_train, y_train))\n",
        "print(pipeline_bag1.score(X_val, y_val))"
      ],
      "execution_count": 86,
      "outputs": [
        {
          "output_type": "stream",
          "text": [
            "0.955324074074074\n",
            "0.8141414141414142\n"
          ],
          "name": "stdout"
        }
      ]
    },
    {
      "cell_type": "code",
      "metadata": {
        "id": "bjoP3cjZZLEm",
        "colab_type": "code",
        "colab": {}
      },
      "source": [
        "# Creating a prediction file\n",
        "\n",
        "y_pred_bag1=pipeline_bag1.predict(X_test)\n",
        "submission_bag1=sample_submission.copy()\n",
        "submission_bag1['status_group']=y_pred_bag1\n",
        "submission_bag1.to_csv('submission_bag811.csv', index=False)"
      ],
      "execution_count": 0,
      "outputs": []
    },
    {
      "cell_type": "code",
      "metadata": {
        "id": "h_87aexI3Jji",
        "colab_type": "code",
        "colab": {
          "base_uri": "https://localhost:8080/",
          "height": 404
        },
        "outputId": "7a32ab52-9ed5-4bcd-cfe7-bf4f98a08b67"
      },
      "source": [
        "# Plotting Validation Curve with DecisioonTreeClassifier, max_features Hyperparameter\n",
        "\n",
        "plt.figure(dpi=100)\n",
        "plt.plot(feat, np.mean(train_scores, axis=1), color='blue', label='training accuracy')\n",
        "plt.plot(feat, np.mean(val_scores, axis= 1), color='red', label= 'validation accuracy')\n",
        "plt.title('Validation Curve')\n",
        "plt.xlabel('Most Complexity: DecisionTreeClassifier_Max_depth')\n",
        "plt.ylabel('Model Score: Accuracy')\n",
        "plt.legend();"
      ],
      "execution_count": 41,
      "outputs": [
        {
          "output_type": "display_data",
          "data": {
            "image/png": "[encoded data removed]",
            "text/plain": [
              "<Figure size 600x400 with 1 Axes>"
            ]
          },
          "metadata": {
            "tags": [],
            "needs_background": "light"
          }
        }
      ]
    },
    {
      "cell_type": "markdown",
      "metadata": {
        "id": "hxjl8tSj4kpJ",
        "colab_type": "text"
      },
      "source": [
        "###Using RandomizedSearchCV"
      ]
    },
    {
      "cell_type": "code",
      "metadata": {
        "id": "IKHy0pdFFVUj",
        "colab_type": "code",
        "colab": {
          "base_uri": "https://localhost:8080/",
          "height": 272
        },
        "outputId": "f0444112-025b-4d0c-957d-9684ed0bb6c1"
      },
      "source": [
        "#With RandomizedSearchCV on RandomforestClassifier\n",
        "\n",
        "pipeline_rf_rand=make_pipeline(\n",
        "    ce.OrdinalEncoder(),\n",
        "    SimpleImputer(),\n",
        "    RandomForestClassifier()\n",
        ")\n",
        "\n",
        "param_distribution={\n",
        "    'simpleimputer__strategy':['mean','most_frequent', 'median'],\n",
        "    'randomforestclassifier__max_depth':[3,5,10],\n",
        "    'randomforestclassifier__n_estimators':[10,20,30],\n",
        "    'randomforestclassifier__criterion':['gini', 'entropy']\n",
        "}\n",
        "\n",
        "search=RandomizedSearchCV(\n",
        "    pipeline_rf_rand,\n",
        "    param_distributions=param_distribution,\n",
        "    n_iter=20,\n",
        "    cv=3,\n",
        "    scoring='accuracy',\n",
        "    return_train_score=True,\n",
        "    verbose=10,\n",
        "    n_jobs=-1\n",
        ")\n",
        "\n",
        "search.fit(X_train, y_train)\n",
        "print(search.score(X_train, y_train))\n",
        "print(search.score(X_val, y_val))"
      ],
      "execution_count": 89,
      "outputs": [
        {
          "output_type": "stream",
          "text": [
            "Fitting 3 folds for each of 20 candidates, totalling 60 fits\n"
          ],
          "name": "stdout"
        },
        {
          "output_type": "stream",
          "text": [
            "[Parallel(n_jobs=-1)]: Using backend LokyBackend with 2 concurrent workers.\n",
            "[Parallel(n_jobs=-1)]: Done   1 tasks      | elapsed:    3.4s\n",
            "[Parallel(n_jobs=-1)]: Done   4 tasks      | elapsed:    6.7s\n",
            "[Parallel(n_jobs=-1)]: Done   9 tasks      | elapsed:   17.5s\n",
            "[Parallel(n_jobs=-1)]: Done  14 tasks      | elapsed:   25.2s\n",
            "[Parallel(n_jobs=-1)]: Done  21 tasks      | elapsed:   33.0s\n",
            "[Parallel(n_jobs=-1)]: Done  28 tasks      | elapsed:   40.7s\n",
            "[Parallel(n_jobs=-1)]: Done  37 tasks      | elapsed:   55.1s\n",
            "[Parallel(n_jobs=-1)]: Done  46 tasks      | elapsed:  1.1min\n",
            "[Parallel(n_jobs=-1)]: Done  57 tasks      | elapsed:  1.4min\n",
            "[Parallel(n_jobs=-1)]: Done  60 out of  60 | elapsed:  1.5min finished\n"
          ],
          "name": "stderr"
        },
        {
          "output_type": "stream",
          "text": [
            "0.7823863636363636\n",
            "0.7718855218855218\n"
          ],
          "name": "stdout"
        }
      ]
    },
    {
      "cell_type": "code",
      "metadata": {
        "id": "ITGNsE-tFVNF",
        "colab_type": "code",
        "colab": {
          "base_uri": "https://localhost:8080/",
          "height": 74
        },
        "outputId": "d2e1f2df-4e9d-4b19-8a9a-2934cc0d2ae5"
      },
      "source": [
        "print(\"Best Parameters\", search.best_params_)\n",
        "print(\"Best Accuracy score\", search.best_score_)"
      ],
      "execution_count": 90,
      "outputs": [
        {
          "output_type": "stream",
          "text": [
            "Best Parameters {'simpleimputer__strategy': 'median', 'randomforestclassifier__n_estimators': 30, 'randomforestclassifier__max_depth': 10, 'randomforestclassifier__criterion': 'gini'}\n",
            "Best Accuracy score 0.7621843434343435\n"
          ],
          "name": "stdout"
        }
      ]
    },
    {
      "cell_type": "code",
      "metadata": {
        "id": "RANdXZ7bvMUz",
        "colab_type": "code",
        "colab": {
          "base_uri": "https://localhost:8080/",
          "height": 54
        },
        "outputId": "b5b145b3-49e1-44d0-9ed0-18ab17d8121c"
      },
      "source": [
        "pipeline_rf_rand_sample=make_pipeline(\n",
        "    ce.OrdinalEncoder(),\n",
        "    SimpleImputer(strategy='median'),\n",
        "    RandomForestClassifier(n_estimators= 30,\n",
        "                           max_depth=10, \n",
        "                           criterion='gini')\n",
        ")\n",
        "\n",
        "pipeline_rf_rand_sample.fit(X_train, y_train)\n",
        "print(pipeline_rf_rand_sample.score(X_train, y_train))\n",
        "print(pipeline_rf_rand_sample.score(X_val, y_val))"
      ],
      "execution_count": 103,
      "outputs": [
        {
          "output_type": "stream",
          "text": [
            "0.7805765993265993\n",
            "0.7668350168350169\n"
          ],
          "name": "stdout"
        }
      ]
    },
    {
      "cell_type": "code",
      "metadata": {
        "id": "-4Mdl8IrZkzc",
        "colab_type": "code",
        "colab": {}
      },
      "source": [
        "# Creating a prediction file\n",
        "\n",
        "y_pred_rf_rand=search.predict(X_test)\n",
        "submission_rf_rand=sample_submission.copy()\n",
        "submission_rf_rand['status_group']=y_pred_rf_rand\n",
        "submission_rf_rand.to_csv('submission_rf_rand.csv', index=False)\n"
      ],
      "execution_count": 0,
      "outputs": []
    },
    {
      "cell_type": "code",
      "metadata": {
        "id": "KmqkiIkIFVKO",
        "colab_type": "code",
        "colab": {
          "base_uri": "https://localhost:8080/",
          "height": 328
        },
        "outputId": "3e866b84-b913-49db-e951-b252084003d9"
      },
      "source": [
        "#With RandomizedSearchCV on BaggingClassifier\n",
        "\n",
        "pipeline_bag_rand=make_pipeline(\n",
        "    ce.OrdinalEncoder(),\n",
        "    SimpleImputer(),\n",
        "    StandardScaler(),\n",
        "    BaggingClassifier()\n",
        ")\n",
        "\n",
        "param_distribution={\n",
        "    'simpleimputer__strategy':['mean','most_frequent', 'median'],\n",
        "    'baggingclassifier__max_features':[.3,.5,1.0],\n",
        "    'baggingclassifier__n_estimators':[30,50,1000],\n",
        "    'baggingclassifier__bootstrap':[False, True]\n",
        "}\n",
        "\n",
        "search1=RandomizedSearchCV(\n",
        "    pipeline_bag_rand,\n",
        "    param_distributions=param_distribution,\n",
        "    n_iter=20,\n",
        "    cv=3,\n",
        "    scoring='accuracy',\n",
        "    return_train_score=True,\n",
        "    verbose=10,\n",
        "    n_jobs=-1\n",
        ")\n",
        "\n",
        "search1.fit(X_train, y_train)\n",
        "print(search1.score(X_train, y_train))\n",
        "print(search1.score(X_val, y_val))"
      ],
      "execution_count": 69,
      "outputs": [
        {
          "output_type": "stream",
          "text": [
            "Fitting 3 folds for each of 20 candidates, totalling 60 fits\n"
          ],
          "name": "stdout"
        },
        {
          "output_type": "stream",
          "text": [
            "[Parallel(n_jobs=-1)]: Using backend LokyBackend with 2 concurrent workers.\n",
            "[Parallel(n_jobs=-1)]: Done   1 tasks      | elapsed:  3.7min\n",
            "/usr/local/lib/python3.6/dist-packages/joblib/externals/loky/process_executor.py:706: UserWarning: A worker stopped while some jobs were given to the executor. This can be caused by a too short worker timeout or by a memory leak.\n",
            "  \"timeout or by a memory leak.\", UserWarning\n",
            "[Parallel(n_jobs=-1)]: Done   4 tasks      | elapsed: 16.8min\n",
            "[Parallel(n_jobs=-1)]: Done   9 tasks      | elapsed: 23.6min\n",
            "[Parallel(n_jobs=-1)]: Done  14 tasks      | elapsed: 29.7min\n",
            "[Parallel(n_jobs=-1)]: Done  21 tasks      | elapsed: 34.2min\n",
            "[Parallel(n_jobs=-1)]: Done  28 tasks      | elapsed: 47.9min\n",
            "[Parallel(n_jobs=-1)]: Done  37 tasks      | elapsed: 61.0min\n",
            "[Parallel(n_jobs=-1)]: Done  46 tasks      | elapsed: 63.5min\n",
            "[Parallel(n_jobs=-1)]: Done  57 tasks      | elapsed: 68.1min\n",
            "[Parallel(n_jobs=-1)]: Done  60 out of  60 | elapsed: 69.7min finished\n"
          ],
          "name": "stderr"
        },
        {
          "output_type": "stream",
          "text": [
            "0.9970538720538721\n",
            "0.8103535353535354\n"
          ],
          "name": "stdout"
        }
      ]
    },
    {
      "cell_type": "code",
      "metadata": {
        "id": "PMQgFiSrTSyO",
        "colab_type": "code",
        "colab": {
          "base_uri": "https://localhost:8080/",
          "height": 74
        },
        "outputId": "9e3a0255-8958-4ca6-f14f-0a50eb2b9e24"
      },
      "source": [
        "print(\"Best Parameters\", search1.best_params_)\n",
        "print(\"Best Accuracy score\", search1.best_score_)"
      ],
      "execution_count": 93,
      "outputs": [
        {
          "output_type": "stream",
          "text": [
            "Best Parameters {'simpleimputer__strategy': 'mean', 'baggingclassifier__n_estimators': 1000, 'baggingclassifier__max_features': 0.5, 'baggingclassifier__bootstrap': True}\n",
            "Best Accuracy score 0.8017255892255891\n"
          ],
          "name": "stdout"
        }
      ]
    },
    {
      "cell_type": "code",
      "metadata": {
        "id": "8U4Y7SrPmnc3",
        "colab_type": "code",
        "colab": {}
      },
      "source": [
        "# Creating a prediction file\n",
        "\n",
        "y_pred_bag_rand=search1.predict(X_test)\n",
        "submission_bag_rand=sample_submission.copy()\n",
        "submission_bag_rand['status_group']=y_pred_bag_rand\n",
        "submission_bag_rand.to_csv('submission_bag_rand.csv', index=False)"
      ],
      "execution_count": 0,
      "outputs": []
    },
    {
      "cell_type": "code",
      "metadata": {
        "id": "FKnNnRx1z3er",
        "colab_type": "code",
        "colab": {
          "base_uri": "https://localhost:8080/",
          "height": 685
        },
        "outputId": "3ccc83ff-5565-465d-c29c-ca317111b1fb"
      },
      "source": [
        "# Checking for detailed report\n",
        "import pandas as pd\n",
        "\n",
        "pd.DataFrame(search1.cv_results_).sort_values(by='rank_test_score').T"
      ],
      "execution_count": 123,
      "outputs": [
        {
          "output_type": "execute_result",
          "data": {
            "text/html": [
              "<div>\n",
              "<style scoped>\n",
              "    .dataframe tbody tr th:only-of-type {\n",
              "        vertical-align: middle;\n",
              "    }\n",
              "\n",
              "    .dataframe tbody tr th {\n",
              "        vertical-align: top;\n",
              "    }\n",
              "\n",
              "    .dataframe thead th {\n",
              "        text-align: right;\n",
              "    }\n",
              "</style>\n",
              "<table border=\"1\" class=\"dataframe\">\n",
              "  <thead>\n",
              "    <tr style=\"text-align: right;\">\n",
              "      <th></th>\n",
              "      <th>12</th>\n",
              "      <th>7</th>\n",
              "      <th>17</th>\n",
              "      <th>16</th>\n",
              "      <th>14</th>\n",
              "      <th>18</th>\n",
              "      <th>3</th>\n",
              "      <th>10</th>\n",
              "      <th>13</th>\n",
              "      <th>19</th>\n",
              "      <th>4</th>\n",
              "      <th>11</th>\n",
              "      <th>0</th>\n",
              "      <th>6</th>\n",
              "      <th>8</th>\n",
              "      <th>5</th>\n",
              "      <th>2</th>\n",
              "      <th>9</th>\n",
              "      <th>15</th>\n",
              "      <th>1</th>\n",
              "    </tr>\n",
              "  </thead>\n",
              "  <tbody>\n",
              "    <tr>\n",
              "      <th>mean_fit_time</th>\n",
              "      <td>234.96</td>\n",
              "      <td>12.4711</td>\n",
              "      <td>13.7694</td>\n",
              "      <td>9.36941</td>\n",
              "      <td>9.06797</td>\n",
              "      <td>120.847</td>\n",
              "      <td>127.832</td>\n",
              "      <td>15.1694</td>\n",
              "      <td>16.4866</td>\n",
              "      <td>15.5453</td>\n",
              "      <td>19.8035</td>\n",
              "      <td>11.7525</td>\n",
              "      <td>203.728</td>\n",
              "      <td>201.922</td>\n",
              "      <td>4.60523</td>\n",
              "      <td>12.3363</td>\n",
              "      <td>5.88444</td>\n",
              "      <td>762.332</td>\n",
              "      <td>23.9827</td>\n",
              "      <td>760.23</td>\n",
              "    </tr>\n",
              "    <tr>\n",
              "      <th>std_fit_time</th>\n",
              "      <td>3.51609</td>\n",
              "      <td>0.142497</td>\n",
              "      <td>0.255716</td>\n",
              "      <td>2.14668</td>\n",
              "      <td>0.0782349</td>\n",
              "      <td>12.1952</td>\n",
              "      <td>2.38515</td>\n",
              "      <td>0.0479789</td>\n",
              "      <td>0.0501591</td>\n",
              "      <td>0.0657446</td>\n",
              "      <td>0.97971</td>\n",
              "      <td>0.278648</td>\n",
              "      <td>1.3347</td>\n",
              "      <td>1.89149</td>\n",
              "      <td>0.257439</td>\n",
              "      <td>0.450437</td>\n",
              "      <td>0.261378</td>\n",
              "      <td>8.95579</td>\n",
              "      <td>0.307505</td>\n",
              "      <td>7.26221</td>\n",
              "    </tr>\n",
              "    <tr>\n",
              "      <th>mean_score_time</th>\n",
              "      <td>6.78457</td>\n",
              "      <td>0.523981</td>\n",
              "      <td>0.590185</td>\n",
              "      <td>0.409925</td>\n",
              "      <td>0.421611</td>\n",
              "      <td>5.77704</td>\n",
              "      <td>5.93874</td>\n",
              "      <td>0.439659</td>\n",
              "      <td>0.467917</td>\n",
              "      <td>0.462623</td>\n",
              "      <td>0.597083</td>\n",
              "      <td>0.405189</td>\n",
              "      <td>6.73629</td>\n",
              "      <td>7.80371</td>\n",
              "      <td>0.373124</td>\n",
              "      <td>0.555446</td>\n",
              "      <td>0.380798</td>\n",
              "      <td>9.32891</td>\n",
              "      <td>0.46744</td>\n",
              "      <td>9.14584</td>\n",
              "    </tr>\n",
              "    <tr>\n",
              "      <th>std_score_time</th>\n",
              "      <td>0.280536</td>\n",
              "      <td>0.00763606</td>\n",
              "      <td>0.0195281</td>\n",
              "      <td>0.0158766</td>\n",
              "      <td>0.00248624</td>\n",
              "      <td>0.813815</td>\n",
              "      <td>0.169667</td>\n",
              "      <td>0.00259622</td>\n",
              "      <td>0.00768959</td>\n",
              "      <td>0.0129214</td>\n",
              "      <td>0.017404</td>\n",
              "      <td>0.00414121</td>\n",
              "      <td>0.147568</td>\n",
              "      <td>1.50569</td>\n",
              "      <td>0.00756143</td>\n",
              "      <td>0.0380035</td>\n",
              "      <td>0.0033627</td>\n",
              "      <td>0.348414</td>\n",
              "      <td>0.015494</td>\n",
              "      <td>0.351406</td>\n",
              "    </tr>\n",
              "    <tr>\n",
              "      <th>param_simpleimputer__strategy</th>\n",
              "      <td>mean</td>\n",
              "      <td>mean</td>\n",
              "      <td>most_frequent</td>\n",
              "      <td>mean</td>\n",
              "      <td>most_frequent</td>\n",
              "      <td>most_frequent</td>\n",
              "      <td>median</td>\n",
              "      <td>median</td>\n",
              "      <td>most_frequent</td>\n",
              "      <td>mean</td>\n",
              "      <td>most_frequent</td>\n",
              "      <td>median</td>\n",
              "      <td>median</td>\n",
              "      <td>most_frequent</td>\n",
              "      <td>mean</td>\n",
              "      <td>most_frequent</td>\n",
              "      <td>most_frequent</td>\n",
              "      <td>most_frequent</td>\n",
              "      <td>median</td>\n",
              "      <td>median</td>\n",
              "    </tr>\n",
              "    <tr>\n",
              "      <th>param_baggingclassifier__n_estimators</th>\n",
              "      <td>1000</td>\n",
              "      <td>50</td>\n",
              "      <td>50</td>\n",
              "      <td>30</td>\n",
              "      <td>30</td>\n",
              "      <td>1000</td>\n",
              "      <td>1000</td>\n",
              "      <td>30</td>\n",
              "      <td>30</td>\n",
              "      <td>30</td>\n",
              "      <td>50</td>\n",
              "      <td>30</td>\n",
              "      <td>1000</td>\n",
              "      <td>1000</td>\n",
              "      <td>30</td>\n",
              "      <td>50</td>\n",
              "      <td>30</td>\n",
              "      <td>1000</td>\n",
              "      <td>30</td>\n",
              "      <td>1000</td>\n",
              "    </tr>\n",
              "    <tr>\n",
              "      <th>param_baggingclassifier__max_features</th>\n",
              "      <td>0.5</td>\n",
              "      <td>0.5</td>\n",
              "      <td>0.5</td>\n",
              "      <td>0.5</td>\n",
              "      <td>0.5</td>\n",
              "      <td>0.3</td>\n",
              "      <td>0.3</td>\n",
              "      <td>1</td>\n",
              "      <td>1</td>\n",
              "      <td>1</td>\n",
              "      <td>0.5</td>\n",
              "      <td>0.5</td>\n",
              "      <td>0.3</td>\n",
              "      <td>0.3</td>\n",
              "      <td>0.3</td>\n",
              "      <td>0.3</td>\n",
              "      <td>0.3</td>\n",
              "      <td>1</td>\n",
              "      <td>1</td>\n",
              "      <td>1</td>\n",
              "    </tr>\n",
              "    <tr>\n",
              "      <th>param_baggingclassifier__bootstrap</th>\n",
              "      <td>True</td>\n",
              "      <td>True</td>\n",
              "      <td>True</td>\n",
              "      <td>True</td>\n",
              "      <td>True</td>\n",
              "      <td>True</td>\n",
              "      <td>True</td>\n",
              "      <td>True</td>\n",
              "      <td>True</td>\n",
              "      <td>True</td>\n",
              "      <td>False</td>\n",
              "      <td>False</td>\n",
              "      <td>False</td>\n",
              "      <td>False</td>\n",
              "      <td>True</td>\n",
              "      <td>False</td>\n",
              "      <td>True</td>\n",
              "      <td>False</td>\n",
              "      <td>False</td>\n",
              "      <td>False</td>\n",
              "    </tr>\n",
              "    <tr>\n",
              "      <th>params</th>\n",
              "      <td>{'simpleimputer__strategy': 'mean', 'baggingcl...</td>\n",
              "      <td>{'simpleimputer__strategy': 'mean', 'baggingcl...</td>\n",
              "      <td>{'simpleimputer__strategy': 'most_frequent', '...</td>\n",
              "      <td>{'simpleimputer__strategy': 'mean', 'baggingcl...</td>\n",
              "      <td>{'simpleimputer__strategy': 'most_frequent', '...</td>\n",
              "      <td>{'simpleimputer__strategy': 'most_frequent', '...</td>\n",
              "      <td>{'simpleimputer__strategy': 'median', 'bagging...</td>\n",
              "      <td>{'simpleimputer__strategy': 'median', 'bagging...</td>\n",
              "      <td>{'simpleimputer__strategy': 'most_frequent', '...</td>\n",
              "      <td>{'simpleimputer__strategy': 'mean', 'baggingcl...</td>\n",
              "      <td>{'simpleimputer__strategy': 'most_frequent', '...</td>\n",
              "      <td>{'simpleimputer__strategy': 'median', 'bagging...</td>\n",
              "      <td>{'simpleimputer__strategy': 'median', 'bagging...</td>\n",
              "      <td>{'simpleimputer__strategy': 'most_frequent', '...</td>\n",
              "      <td>{'simpleimputer__strategy': 'mean', 'baggingcl...</td>\n",
              "      <td>{'simpleimputer__strategy': 'most_frequent', '...</td>\n",
              "      <td>{'simpleimputer__strategy': 'most_frequent', '...</td>\n",
              "      <td>{'simpleimputer__strategy': 'most_frequent', '...</td>\n",
              "      <td>{'simpleimputer__strategy': 'median', 'bagging...</td>\n",
              "      <td>{'simpleimputer__strategy': 'median', 'bagging...</td>\n",
              "    </tr>\n",
              "    <tr>\n",
              "      <th>split0_test_score</th>\n",
              "      <td>0.802146</td>\n",
              "      <td>0.794444</td>\n",
              "      <td>0.800189</td>\n",
              "      <td>0.794192</td>\n",
              "      <td>0.79596</td>\n",
              "      <td>0.792045</td>\n",
              "      <td>0.792361</td>\n",
              "      <td>0.792614</td>\n",
              "      <td>0.792614</td>\n",
              "      <td>0.790783</td>\n",
              "      <td>0.785732</td>\n",
              "      <td>0.792487</td>\n",
              "      <td>0.784091</td>\n",
              "      <td>0.785606</td>\n",
              "      <td>0.773548</td>\n",
              "      <td>0.779924</td>\n",
              "      <td>0.770013</td>\n",
              "      <td>0.74375</td>\n",
              "      <td>0.743182</td>\n",
              "      <td>0.741982</td>\n",
              "    </tr>\n",
              "    <tr>\n",
              "      <th>split1_test_score</th>\n",
              "      <td>0.798359</td>\n",
              "      <td>0.800758</td>\n",
              "      <td>0.793813</td>\n",
              "      <td>0.794255</td>\n",
              "      <td>0.790909</td>\n",
              "      <td>0.796275</td>\n",
              "      <td>0.792866</td>\n",
              "      <td>0.78851</td>\n",
              "      <td>0.786869</td>\n",
              "      <td>0.787374</td>\n",
              "      <td>0.790404</td>\n",
              "      <td>0.787247</td>\n",
              "      <td>0.784785</td>\n",
              "      <td>0.784785</td>\n",
              "      <td>0.797285</td>\n",
              "      <td>0.77702</td>\n",
              "      <td>0.774621</td>\n",
              "      <td>0.748106</td>\n",
              "      <td>0.74476</td>\n",
              "      <td>0.744508</td>\n",
              "    </tr>\n",
              "    <tr>\n",
              "      <th>split2_test_score</th>\n",
              "      <td>0.804672</td>\n",
              "      <td>0.801199</td>\n",
              "      <td>0.796907</td>\n",
              "      <td>0.800568</td>\n",
              "      <td>0.801136</td>\n",
              "      <td>0.793245</td>\n",
              "      <td>0.792235</td>\n",
              "      <td>0.792992</td>\n",
              "      <td>0.793434</td>\n",
              "      <td>0.794003</td>\n",
              "      <td>0.791477</td>\n",
              "      <td>0.784154</td>\n",
              "      <td>0.79173</td>\n",
              "      <td>0.789141</td>\n",
              "      <td>0.786742</td>\n",
              "      <td>0.784217</td>\n",
              "      <td>0.777083</td>\n",
              "      <td>0.74596</td>\n",
              "      <td>0.746402</td>\n",
              "      <td>0.74577</td>\n",
              "    </tr>\n",
              "    <tr>\n",
              "      <th>mean_test_score</th>\n",
              "      <td>0.801726</td>\n",
              "      <td>0.798801</td>\n",
              "      <td>0.79697</td>\n",
              "      <td>0.796338</td>\n",
              "      <td>0.796002</td>\n",
              "      <td>0.793855</td>\n",
              "      <td>0.792487</td>\n",
              "      <td>0.791372</td>\n",
              "      <td>0.790972</td>\n",
              "      <td>0.79072</td>\n",
              "      <td>0.789205</td>\n",
              "      <td>0.787963</td>\n",
              "      <td>0.786869</td>\n",
              "      <td>0.786511</td>\n",
              "      <td>0.785859</td>\n",
              "      <td>0.780387</td>\n",
              "      <td>0.773906</td>\n",
              "      <td>0.745939</td>\n",
              "      <td>0.744781</td>\n",
              "      <td>0.744087</td>\n",
              "    </tr>\n",
              "    <tr>\n",
              "      <th>std_test_score</th>\n",
              "      <td>0.00259445</td>\n",
              "      <td>0.00308548</td>\n",
              "      <td>0.00260348</td>\n",
              "      <td>0.00299103</td>\n",
              "      <td>0.00417537</td>\n",
              "      <td>0.00177991</td>\n",
              "      <td>0.000272758</td>\n",
              "      <td>0.00202961</td>\n",
              "      <td>0.00292092</td>\n",
              "      <td>0.00270656</td>\n",
              "      <td>0.00249402</td>\n",
              "      <td>0.00343948</td>\n",
              "      <td>0.003449</td>\n",
              "      <td>0.00188996</td>\n",
              "      <td>0.00971087</td>\n",
              "      <td>0.00295633</td>\n",
              "      <td>0.0029306</td>\n",
              "      <td>0.00177842</td>\n",
              "      <td>0.00131452</td>\n",
              "      <td>0.00157477</td>\n",
              "    </tr>\n",
              "    <tr>\n",
              "      <th>rank_test_score</th>\n",
              "      <td>1</td>\n",
              "      <td>2</td>\n",
              "      <td>3</td>\n",
              "      <td>4</td>\n",
              "      <td>5</td>\n",
              "      <td>6</td>\n",
              "      <td>7</td>\n",
              "      <td>8</td>\n",
              "      <td>9</td>\n",
              "      <td>10</td>\n",
              "      <td>11</td>\n",
              "      <td>12</td>\n",
              "      <td>13</td>\n",
              "      <td>14</td>\n",
              "      <td>15</td>\n",
              "      <td>16</td>\n",
              "      <td>17</td>\n",
              "      <td>18</td>\n",
              "      <td>19</td>\n",
              "      <td>20</td>\n",
              "    </tr>\n",
              "    <tr>\n",
              "      <th>split0_train_score</th>\n",
              "      <td>0.997254</td>\n",
              "      <td>0.994381</td>\n",
              "      <td>0.994508</td>\n",
              "      <td>0.99315</td>\n",
              "      <td>0.992361</td>\n",
              "      <td>0.984975</td>\n",
              "      <td>0.984059</td>\n",
              "      <td>0.995518</td>\n",
              "      <td>0.99476</td>\n",
              "      <td>0.995328</td>\n",
              "      <td>0.997854</td>\n",
              "      <td>0.997128</td>\n",
              "      <td>0.99637</td>\n",
              "      <td>0.996433</td>\n",
              "      <td>0.966256</td>\n",
              "      <td>0.99596</td>\n",
              "      <td>0.982102</td>\n",
              "      <td>0.99798</td>\n",
              "      <td>0.99798</td>\n",
              "      <td>0.99798</td>\n",
              "    </tr>\n",
              "    <tr>\n",
              "      <th>split1_train_score</th>\n",
              "      <td>0.997412</td>\n",
              "      <td>0.994192</td>\n",
              "      <td>0.995391</td>\n",
              "      <td>0.992835</td>\n",
              "      <td>0.99233</td>\n",
              "      <td>0.985701</td>\n",
              "      <td>0.983586</td>\n",
              "      <td>0.995423</td>\n",
              "      <td>0.995739</td>\n",
              "      <td>0.995549</td>\n",
              "      <td>0.997917</td>\n",
              "      <td>0.997822</td>\n",
              "      <td>0.996402</td>\n",
              "      <td>0.99637</td>\n",
              "      <td>0.979514</td>\n",
              "      <td>0.996149</td>\n",
              "      <td>0.986332</td>\n",
              "      <td>0.998201</td>\n",
              "      <td>0.998201</td>\n",
              "      <td>0.998201</td>\n",
              "    </tr>\n",
              "    <tr>\n",
              "      <th>split2_train_score</th>\n",
              "      <td>0.997159</td>\n",
              "      <td>0.99334</td>\n",
              "      <td>0.995644</td>\n",
              "      <td>0.990688</td>\n",
              "      <td>0.991414</td>\n",
              "      <td>0.986585</td>\n",
              "      <td>0.988447</td>\n",
              "      <td>0.995265</td>\n",
              "      <td>0.995518</td>\n",
              "      <td>0.995549</td>\n",
              "      <td>0.997822</td>\n",
              "      <td>0.997885</td>\n",
              "      <td>0.996086</td>\n",
              "      <td>0.996117</td>\n",
              "      <td>0.987311</td>\n",
              "      <td>0.996117</td>\n",
              "      <td>0.965625</td>\n",
              "      <td>0.998138</td>\n",
              "      <td>0.998138</td>\n",
              "      <td>0.998138</td>\n",
              "    </tr>\n",
              "    <tr>\n",
              "      <th>mean_train_score</th>\n",
              "      <td>0.997275</td>\n",
              "      <td>0.993971</td>\n",
              "      <td>0.995181</td>\n",
              "      <td>0.992224</td>\n",
              "      <td>0.992035</td>\n",
              "      <td>0.985753</td>\n",
              "      <td>0.985364</td>\n",
              "      <td>0.995402</td>\n",
              "      <td>0.995339</td>\n",
              "      <td>0.995476</td>\n",
              "      <td>0.997864</td>\n",
              "      <td>0.997612</td>\n",
              "      <td>0.996286</td>\n",
              "      <td>0.996307</td>\n",
              "      <td>0.977694</td>\n",
              "      <td>0.996075</td>\n",
              "      <td>0.97802</td>\n",
              "      <td>0.998106</td>\n",
              "      <td>0.998106</td>\n",
              "      <td>0.998106</td>\n",
              "    </tr>\n",
              "    <tr>\n",
              "      <th>std_train_score</th>\n",
              "      <td>0.000104161</td>\n",
              "      <td>0.000453052</td>\n",
              "      <td>0.000487199</td>\n",
              "      <td>0.00109387</td>\n",
              "      <td>0.000439155</td>\n",
              "      <td>0.00065827</td>\n",
              "      <td>0.0021885</td>\n",
              "      <td>0.000104161</td>\n",
              "      <td>0.00041903</td>\n",
              "      <td>0.000104161</td>\n",
              "      <td>3.93693e-05</td>\n",
              "      <td>0.000343214</td>\n",
              "      <td>0.000141948</td>\n",
              "      <td>0.000136379</td>\n",
              "      <td>0.00869122</td>\n",
              "      <td>8.28494e-05</td>\n",
              "      <td>0.00893293</td>\n",
              "      <td>9.29268e-05</td>\n",
              "      <td>9.29268e-05</td>\n",
              "      <td>9.29268e-05</td>\n",
              "    </tr>\n",
              "  </tbody>\n",
              "</table>\n",
              "</div>"
            ],
            "text/plain": [
              "                                                                                      12  ...                                                 1 \n",
              "mean_fit_time                                                                     234.96  ...                                             760.23\n",
              "std_fit_time                                                                     3.51609  ...                                            7.26221\n",
              "mean_score_time                                                                  6.78457  ...                                            9.14584\n",
              "std_score_time                                                                  0.280536  ...                                           0.351406\n",
              "param_simpleimputer__strategy                                                       mean  ...                                             median\n",
              "param_baggingclassifier__n_estimators                                               1000  ...                                               1000\n",
              "param_baggingclassifier__max_features                                                0.5  ...                                                  1\n",
              "param_baggingclassifier__bootstrap                                                  True  ...                                              False\n",
              "params                                 {'simpleimputer__strategy': 'mean', 'baggingcl...  ...  {'simpleimputer__strategy': 'median', 'bagging...\n",
              "split0_test_score                                                               0.802146  ...                                           0.741982\n",
              "split1_test_score                                                               0.798359  ...                                           0.744508\n",
              "split2_test_score                                                               0.804672  ...                                            0.74577\n",
              "mean_test_score                                                                 0.801726  ...                                           0.744087\n",
              "std_test_score                                                                0.00259445  ...                                         0.00157477\n",
              "rank_test_score                                                                        1  ...                                                 20\n",
              "split0_train_score                                                              0.997254  ...                                            0.99798\n",
              "split1_train_score                                                              0.997412  ...                                           0.998201\n",
              "split2_train_score                                                              0.997159  ...                                           0.998138\n",
              "mean_train_score                                                                0.997275  ...                                           0.998106\n",
              "std_train_score                                                              0.000104161  ...                                        9.29268e-05\n",
              "\n",
              "[20 rows x 20 columns]"
            ]
          },
          "metadata": {
            "tags": []
          },
          "execution_count": 123
        }
      ]
    },
    {
      "cell_type": "code",
      "metadata": {
        "id": "W2a5OQ4nVh3h",
        "colab_type": "code",
        "colab": {
          "base_uri": "https://localhost:8080/",
          "height": 217
        },
        "outputId": "b0f05c83-ab67-400f-d97f-ea2f0f4e23aa"
      },
      "source": [
        "#With RandomizedSearchCV on RandomForestClassifier with function\n",
        "from xgboost.sklearn import XGBClassifier\n",
        "\n",
        "classifier=make_pipeline(\n",
        "    ce.OrdinalEncoder(),\n",
        "    SimpleImputer(),\n",
        "    RandomForestClassifier()\n",
        ")\n",
        "\n",
        "params={\n",
        "    'simpleimputer__strategy':['mean','most_frequent', 'median'],\n",
        "    'randomforestclassifier__min_samples_leaf':[3,5,10],\n",
        "    'randomforestclassifier__n_estimators':[50,100],\n",
        "    'randomforestclassifier__criterion':['gini', 'entropy']\n",
        "}\n",
        "\n",
        "def hypertuning(classifier, param_dist, n_iters, X,y ):\n",
        "    search2=RandomizedSearchCV(\n",
        "        classifier,\n",
        "        param_distributions=param_dist,\n",
        "        n_jobs=-1,\n",
        "        n_iter=n_iters,\n",
        "        verbose=10,\n",
        "        cv=3)\n",
        "    search2.fit(X_train, y_train)\n",
        "    hyper_params=search2.best_params_\n",
        "    hyper_score=search2.best_score_\n",
        "    return hyper_params, hyper_score\n",
        "\n",
        "hyper_params, hyper_score=hypertuning(classifier, params, 5, X_train,y_train)\n",
        "\n",
        "hyper_params, hyper_score"
      ],
      "execution_count": 102,
      "outputs": [
        {
          "output_type": "stream",
          "text": [
            "Fitting 3 folds for each of 5 candidates, totalling 15 fits\n"
          ],
          "name": "stdout"
        },
        {
          "output_type": "stream",
          "text": [
            "[Parallel(n_jobs=-1)]: Using backend LokyBackend with 2 concurrent workers.\n",
            "[Parallel(n_jobs=-1)]: Done   1 tasks      | elapsed:   14.1s\n",
            "[Parallel(n_jobs=-1)]: Done   4 tasks      | elapsed:   26.9s\n",
            "[Parallel(n_jobs=-1)]: Done   9 tasks      | elapsed:   54.8s\n",
            "[Parallel(n_jobs=-1)]: Done  15 out of  15 | elapsed:  1.2min finished\n"
          ],
          "name": "stderr"
        },
        {
          "output_type": "execute_result",
          "data": {
            "text/plain": [
              "({'randomforestclassifier__criterion': 'entropy',\n",
              "  'randomforestclassifier__min_samples_leaf': 3,\n",
              "  'randomforestclassifier__n_estimators': 50,\n",
              "  'simpleimputer__strategy': 'median'},\n",
              " 0.7999999999999999)"
            ]
          },
          "metadata": {
            "tags": []
          },
          "execution_count": 102
        }
      ]
    },
    {
      "cell_type": "code",
      "metadata": {
        "id": "_GrVjofCw28t",
        "colab_type": "code",
        "colab": {
          "base_uri": "https://localhost:8080/",
          "height": 54
        },
        "outputId": "16a8922d-b535-4af8-b38f-7eecb669f906"
      },
      "source": [
        "# Applying the given hyperparameters\n",
        "\n",
        "classifier2=make_pipeline(\n",
        "    ce.OrdinalEncoder(),\n",
        "    SimpleImputer(strategy= 'median'),\n",
        "    RandomForestClassifier(criterion='entropy',\n",
        "                           min_samples_leaf= 3,\n",
        "                           n_estimators=50)\n",
        ")\n",
        "\n",
        "classifier2.fit(X_train, y_train)\n",
        "print(classifier2.score(X_train, y_train))\n",
        "print(classifier2.score(X_val, y_val))"
      ],
      "execution_count": 108,
      "outputs": [
        {
          "output_type": "stream",
          "text": [
            "0.8926767676767676\n",
            "0.813047138047138\n"
          ],
          "name": "stdout"
        }
      ]
    },
    {
      "cell_type": "code",
      "metadata": {
        "id": "PztX_Ct8aIgE",
        "colab_type": "code",
        "colab": {}
      },
      "source": [
        "# Creating a prediction file\n",
        "\n",
        "y_pred_rf_func=classifier2.predict(X_test)\n",
        "submission_rf_func=sample_submission.copy()\n",
        "submission_rf_func['status_group']=y_pred_rf_func\n",
        "submission_rf_func.to_csv('submission_rf_rand.csv', index=False)"
      ],
      "execution_count": 0,
      "outputs": []
    },
    {
      "cell_type": "code",
      "metadata": {
        "id": "_dueSK-Un6Ia",
        "colab_type": "code",
        "colab": {
          "base_uri": "https://localhost:8080/",
          "height": 235
        },
        "outputId": "978ee098-2b3b-49c5-ae2d-a88d14fcd1af"
      },
      "source": [
        "#With RandomizedSearchCV on XGBoost with function\n",
        "\n",
        "pipeline_xgb=make_pipeline(\n",
        "    ce.OrdinalEncoder(),\n",
        "    SimpleImputer(),\n",
        "    StandardScaler(),\n",
        "    XGBClassifier(n_estimators=50)\n",
        ")\n",
        "\n",
        "params_xgb={\n",
        "    'simpleimputer__strategy':['mean','most_frequent', 'median'],\n",
        "    'xgbclassifier__min_child_weight':[1,5,10],\n",
        "    'xgbclassifier__max_depth':[5,10, 15],\n",
        "    'xgbclassifier__learning_rate':[0.3, 0.5, 1.0],\n",
        "    'xgbclassifier__scale_pos_weight':[0.5,1],\n",
        "}\n",
        "\n",
        "\n",
        "hyper_params, hyper_score=hypertuning(pipeline_xgb, params_xgb, 5, X_train,y_train)\n",
        "\n",
        "hyper_params, hyper_score\n"
      ],
      "execution_count": 99,
      "outputs": [
        {
          "output_type": "stream",
          "text": [
            "Fitting 3 folds for each of 5 candidates, totalling 15 fits\n"
          ],
          "name": "stdout"
        },
        {
          "output_type": "stream",
          "text": [
            "[Parallel(n_jobs=-1)]: Using backend LokyBackend with 2 concurrent workers.\n",
            "[Parallel(n_jobs=-1)]: Done   1 tasks      | elapsed:   32.0s\n",
            "[Parallel(n_jobs=-1)]: Done   4 tasks      | elapsed:  1.0min\n",
            "[Parallel(n_jobs=-1)]: Done   9 tasks      | elapsed:  2.2min\n",
            "[Parallel(n_jobs=-1)]: Done  15 out of  15 | elapsed:  3.9min finished\n"
          ],
          "name": "stderr"
        },
        {
          "output_type": "execute_result",
          "data": {
            "text/plain": [
              "({'simpleimputer__strategy': 'most_frequent',\n",
              "  'xgbclassifier__learning_rate': 0.3,\n",
              "  'xgbclassifier__max_depth': 10,\n",
              "  'xgbclassifier__min_child_weight': 1,\n",
              "  'xgbclassifier__scale_pos_weight': 0.5},\n",
              " 0.8003998316498316)"
            ]
          },
          "metadata": {
            "tags": []
          },
          "execution_count": 99
        }
      ]
    },
    {
      "cell_type": "code",
      "metadata": {
        "id": "QxMMEQd1t50y",
        "colab_type": "code",
        "colab": {
          "base_uri": "https://localhost:8080/",
          "height": 54
        },
        "outputId": "947ed5e0-9606-4bef-c1cf-e7b3568e9edc"
      },
      "source": [
        "#Applying hyperparameters\n",
        "\n",
        "pipeline_xgb_sample=make_pipeline(\n",
        "    ce.OrdinalEncoder(),\n",
        "    SimpleImputer(strategy='most_frequent'),\n",
        "    StandardScaler(),\n",
        "    XGBClassifier(n_estimators=50, learning_rate=.3, max_depth= 10, min_child_weight=1, scale_pos_weight= 0.5)\n",
        ")\n",
        "\n",
        "pipeline_xgb_sample.fit(X_train, y_train)\n",
        "print(pipeline_xgb_sample.score(X_train, y_train))\n",
        "print(pipeline_xgb_sample.score(X_val, y_val))"
      ],
      "execution_count": 100,
      "outputs": [
        {
          "output_type": "stream",
          "text": [
            "0.9070286195286196\n",
            "0.8104377104377104\n"
          ],
          "name": "stdout"
        }
      ]
    },
    {
      "cell_type": "code",
      "metadata": {
        "id": "mmKEHcfBxtPz",
        "colab_type": "code",
        "colab": {}
      },
      "source": [
        "# Creating a prediction file\n",
        "\n",
        "y_pred_xgb_func=pipeline_xgb_sample.predict(X_test)\n",
        "submission_xgb_func=sample_submission.copy()\n",
        "submission_xgb_func['status_group']=y_pred_xgb_func\n",
        "submission_xgb_func.to_csv('submission_xgb_rand.csv', index=False)"
      ],
      "execution_count": 0,
      "outputs": []
    },
    {
      "cell_type": "code",
      "metadata": {
        "id": "9kftbB4sykcH",
        "colab_type": "code",
        "colab": {}
      },
      "source": [
        "#Creating a csv file for sample submission\n",
        "\n",
        "sample_submission.to_csv('sample_submission.csv', index=False)"
      ],
      "execution_count": 0,
      "outputs": []
    },
    {
      "cell_type": "code",
      "metadata": {
        "id": "uMaWVxJElw4L",
        "colab_type": "code",
        "colab": {}
      },
      "source": [
        "# Stacking\n",
        "\n",
        "import pandas as pd\n",
        " \n",
        "# Filenames of your submissions you want to ensemble\n",
        "files = ['submission_rf_ord.csv', 'submission_bag811.csv', 'submission_bag_rand.csv', 'submission_rf_rand.csv', 'submission_xgb_rand.csv']\n",
        " \n",
        "target = 'status_group'\n",
        "submissions = (pd.read_csv(file)[[target]] for file in files)\n",
        "ensemble = pd.concat(submissions, axis='columns')\n",
        "majority_vote = ensemble.mode(axis='columns')[0]\n",
        " \n",
        "sample_submission = pd.read_csv('sample_submission.csv')\n",
        "submission = sample_submission.copy()\n",
        "submission[target] = majority_vote\n",
        "submission.to_csv('my-ultimate-ensemble-submission.csv', index=False)"
      ],
      "execution_count": 0,
      "outputs": []
    },
    {
      "cell_type": "code",
      "metadata": {
        "id": "RZmvri7-zkev",
        "colab_type": "code",
        "colab": {
          "base_uri": "https://localhost:8080/",
          "height": 407
        },
        "outputId": "a8a7dbc9-5710-47d5-ba71-c0157c7f5a02"
      },
      "source": [
        "# Stacking data, the mode/observation will be final prediction\n",
        "\n",
        "ensemble"
      ],
      "execution_count": 118,
      "outputs": [
        {
          "output_type": "execute_result",
          "data": {
            "text/html": [
              "<div>\n",
              "<style scoped>\n",
              "    .dataframe tbody tr th:only-of-type {\n",
              "        vertical-align: middle;\n",
              "    }\n",
              "\n",
              "    .dataframe tbody tr th {\n",
              "        vertical-align: top;\n",
              "    }\n",
              "\n",
              "    .dataframe thead th {\n",
              "        text-align: right;\n",
              "    }\n",
              "</style>\n",
              "<table border=\"1\" class=\"dataframe\">\n",
              "  <thead>\n",
              "    <tr style=\"text-align: right;\">\n",
              "      <th></th>\n",
              "      <th>status_group</th>\n",
              "      <th>status_group</th>\n",
              "      <th>status_group</th>\n",
              "      <th>status_group</th>\n",
              "      <th>status_group</th>\n",
              "    </tr>\n",
              "  </thead>\n",
              "  <tbody>\n",
              "    <tr>\n",
              "      <th>0</th>\n",
              "      <td>functional</td>\n",
              "      <td>functional</td>\n",
              "      <td>functional</td>\n",
              "      <td>non functional</td>\n",
              "      <td>non functional</td>\n",
              "    </tr>\n",
              "    <tr>\n",
              "      <th>1</th>\n",
              "      <td>functional</td>\n",
              "      <td>functional</td>\n",
              "      <td>functional</td>\n",
              "      <td>functional</td>\n",
              "      <td>functional</td>\n",
              "    </tr>\n",
              "    <tr>\n",
              "      <th>2</th>\n",
              "      <td>functional</td>\n",
              "      <td>functional</td>\n",
              "      <td>functional</td>\n",
              "      <td>functional</td>\n",
              "      <td>functional</td>\n",
              "    </tr>\n",
              "    <tr>\n",
              "      <th>3</th>\n",
              "      <td>non functional</td>\n",
              "      <td>non functional</td>\n",
              "      <td>non functional</td>\n",
              "      <td>non functional</td>\n",
              "      <td>non functional</td>\n",
              "    </tr>\n",
              "    <tr>\n",
              "      <th>4</th>\n",
              "      <td>functional</td>\n",
              "      <td>functional</td>\n",
              "      <td>functional</td>\n",
              "      <td>functional</td>\n",
              "      <td>functional</td>\n",
              "    </tr>\n",
              "    <tr>\n",
              "      <th>...</th>\n",
              "      <td>...</td>\n",
              "      <td>...</td>\n",
              "      <td>...</td>\n",
              "      <td>...</td>\n",
              "      <td>...</td>\n",
              "    </tr>\n",
              "    <tr>\n",
              "      <th>14353</th>\n",
              "      <td>non functional</td>\n",
              "      <td>non functional</td>\n",
              "      <td>non functional</td>\n",
              "      <td>non functional</td>\n",
              "      <td>non functional</td>\n",
              "    </tr>\n",
              "    <tr>\n",
              "      <th>14354</th>\n",
              "      <td>functional</td>\n",
              "      <td>functional</td>\n",
              "      <td>functional</td>\n",
              "      <td>functional</td>\n",
              "      <td>functional</td>\n",
              "    </tr>\n",
              "    <tr>\n",
              "      <th>14355</th>\n",
              "      <td>functional</td>\n",
              "      <td>functional</td>\n",
              "      <td>functional</td>\n",
              "      <td>functional</td>\n",
              "      <td>functional</td>\n",
              "    </tr>\n",
              "    <tr>\n",
              "      <th>14356</th>\n",
              "      <td>functional</td>\n",
              "      <td>functional</td>\n",
              "      <td>functional</td>\n",
              "      <td>functional</td>\n",
              "      <td>functional</td>\n",
              "    </tr>\n",
              "    <tr>\n",
              "      <th>14357</th>\n",
              "      <td>non functional</td>\n",
              "      <td>non functional</td>\n",
              "      <td>non functional</td>\n",
              "      <td>non functional</td>\n",
              "      <td>non functional</td>\n",
              "    </tr>\n",
              "  </tbody>\n",
              "</table>\n",
              "<p>14358 rows × 5 columns</p>\n",
              "</div>"
            ],
            "text/plain": [
              "         status_group    status_group  ...    status_group    status_group\n",
              "0          functional      functional  ...  non functional  non functional\n",
              "1          functional      functional  ...      functional      functional\n",
              "2          functional      functional  ...      functional      functional\n",
              "3      non functional  non functional  ...  non functional  non functional\n",
              "4          functional      functional  ...      functional      functional\n",
              "...               ...             ...  ...             ...             ...\n",
              "14353  non functional  non functional  ...  non functional  non functional\n",
              "14354      functional      functional  ...      functional      functional\n",
              "14355      functional      functional  ...      functional      functional\n",
              "14356      functional      functional  ...      functional      functional\n",
              "14357  non functional  non functional  ...  non functional  non functional\n",
              "\n",
              "[14358 rows x 5 columns]"
            ]
          },
          "metadata": {
            "tags": []
          },
          "execution_count": 118
        }
      ]
    },
    {
      "cell_type": "markdown",
      "metadata": {
        "id": "UjXgaw6i1-VY",
        "colab_type": "text"
      },
      "source": [
        "###Applying the highest score to the whole TRAIN dataset"
      ]
    },
    {
      "cell_type": "code",
      "metadata": {
        "id": "UCdCitFc2zYf",
        "colab_type": "code",
        "colab": {}
      },
      "source": [
        "#Copying and wrangling data\n",
        "\n",
        "train_whole=train_orig.copy()\n",
        "test_whole=test_orig.copy()\n",
        "\n",
        "train_whole = wrangle(train_whole)\n",
        "test_whole = wrangle(test_whole)"
      ],
      "execution_count": 0,
      "outputs": []
    },
    {
      "cell_type": "code",
      "metadata": {
        "id": "kQwo4g7n3vei",
        "colab_type": "code",
        "colab": {}
      },
      "source": [
        "# The status_group column is the target\n",
        "target = 'status_group'\n",
        "\n",
        "# Get a dataframe with all train columns except the target\n",
        "train_features2 = train_whole.drop(columns=[target])\n",
        "\n",
        "# Get a list of the numeric features\n",
        "numeric_features2 = train_features2.select_dtypes(include='number').columns.tolist()\n",
        "\n",
        "# Get a series with the cardinality of the nonnumeric features\n",
        "cardinality2 = train_features2.select_dtypes(exclude='number').nunique()\n",
        "\n",
        "# Get a list of all categorical features with cardinality <= 50\n",
        "categorical_features2 = cardinality2[cardinality2 <= 50].index.tolist()\n",
        "\n",
        "# Combine the lists \n",
        "features2 = numeric_features2 + categorical_features2"
      ],
      "execution_count": 0,
      "outputs": []
    },
    {
      "cell_type": "code",
      "metadata": {
        "id": "qXy2pGdD4Mc8",
        "colab_type": "code",
        "colab": {}
      },
      "source": [
        "# Arrange data into X features matrix and y target vector \n",
        "X_train_whole = train_whole[features2]\n",
        "y_train_whole = train_whole[target]\n",
        "X_test_whole = test_whole[features2]"
      ],
      "execution_count": 0,
      "outputs": []
    },
    {
      "cell_type": "code",
      "metadata": {
        "id": "Shr17wQY2LVr",
        "colab_type": "code",
        "colab": {
          "base_uri": "https://localhost:8080/",
          "height": 35
        },
        "outputId": "be7980a9-e8c1-41e2-eaee-58820dd2e04b"
      },
      "source": [
        "# Applying the given hyperparameters\n",
        "\n",
        "classifier_whole=make_pipeline(\n",
        "    ce.OrdinalEncoder(),\n",
        "    SimpleImputer(strategy= 'median'),\n",
        "    RandomForestClassifier(criterion='entropy',\n",
        "                           min_samples_leaf= 3,\n",
        "                           n_estimators=50)\n",
        ")\n",
        "\n",
        "classifier_whole.fit(X_train_whole, y_train_whole)\n",
        "print(classifier_whole.score(X_train_whole, y_train_whole))\n"
      ],
      "execution_count": 129,
      "outputs": [
        {
          "output_type": "stream",
          "text": [
            "0.8925084175084175\n"
          ],
          "name": "stdout"
        }
      ]
    },
    {
      "cell_type": "code",
      "metadata": {
        "id": "BAiPgv3I41AT",
        "colab_type": "code",
        "colab": {}
      },
      "source": [
        "y_pred_whole=classifier_whole.predict(X_test_whole)\n",
        "submission_whole=sample_submission.copy()\n",
        "submission_whole['status_group']=y_pred_whole\n",
        "submission_whole.to_csv('submission_whole.csv', index=False)"
      ],
      "execution_count": 0,
      "outputs": []
    }
  ]
}